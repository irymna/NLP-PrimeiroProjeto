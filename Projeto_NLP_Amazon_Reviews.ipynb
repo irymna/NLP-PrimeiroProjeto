{
  "nbformat": 4,
  "nbformat_minor": 0,
  "metadata": {
    "colab": {
      "name": "Projeto NLP - Amazon Reviews.ipynb",
      "provenance": [],
      "collapsed_sections": [],
      "toc_visible": true,
      "authorship_tag": "ABX9TyM6gPwBMehvAfddRNqj+URS",
      "include_colab_link": true
    },
    "kernelspec": {
      "name": "python3",
      "display_name": "Python 3"
    },
    "language_info": {
      "name": "python"
    }
  },
  "cells": [
    {
      "cell_type": "markdown",
      "metadata": {
        "id": "view-in-github",
        "colab_type": "text"
      },
      "source": [
        "<a href=\"https://colab.research.google.com/github/irymna/NLP-PrimeiroProjeto/blob/main/Projeto_NLP_Amazon_Reviews.ipynb\" target=\"_parent\"><img src=\"https://colab.research.google.com/assets/colab-badge.svg\" alt=\"Open In Colab\"/></a>"
      ]
    },
    {
      "cell_type": "markdown",
      "source": [
        "# Projeto Trainee - NLP\n",
        "\n",
        "Farei uma análise de sentimentos com um dataset de reviews de jogos da Amazon para a admissão na área de Processamento de Linguagem Natural (NLP) dentro do Turing USP, grupo de extensão da Universidade de São Paulo."
      ],
      "metadata": {
        "id": "hXgFDnREQueH"
      }
    },
    {
      "cell_type": "markdown",
      "source": [
        "##Observações iniciais"
      ],
      "metadata": {
        "id": "KIcQVtq4QyvF"
      }
    },
    {
      "cell_type": "code",
      "execution_count": 120,
      "metadata": {
        "id": "jDmE5x9QxaEo",
        "colab": {
          "base_uri": "https://localhost:8080/"
        },
        "outputId": "ba4139c8-a8db-4036-de7a-019247ad3929"
      },
      "outputs": [
        {
          "output_type": "stream",
          "name": "stdout",
          "text": [
            "[nltk_data] Downloading package wordnet to /root/nltk_data...\n",
            "[nltk_data]   Package wordnet is already up-to-date!\n",
            "[nltk_data] Downloading package stopwords to /root/nltk_data...\n",
            "[nltk_data]   Package stopwords is already up-to-date!\n",
            "[nltk_data] Downloading package punkt to /root/nltk_data...\n",
            "[nltk_data]   Package punkt is already up-to-date!\n"
          ]
        }
      ],
      "source": [
        "# Importando as bibliotecas essenciais\n",
        "import pandas as pd \n",
        "import numpy as np \n",
        "from matplotlib import pyplot as plt\n",
        "from collections import Counter\n",
        "\n",
        "# Manipupalção de texto\n",
        "import nltk\n",
        "nltk.download('wordnet')\n",
        "nltk.download('stopwords')\n",
        "nltk.download('punkt')\n",
        "from nltk.tokenize import word_tokenize\n",
        "import re\n",
        "import string\n",
        "from wordcloud import WordCloud,STOPWORDS\n",
        "from nltk.stem.porter import PorterStemmer # Stemização\n",
        "from sklearn.feature_extraction.text import TfidfVectorizer\n",
        "\n",
        "# Visualização dos dados\n",
        "import seaborn as sns"
      ]
    },
    {
      "cell_type": "code",
      "source": [
        "amazon_train = pd.read_csv('video_games_reviews_train.csv')\n",
        "amazon_test = pd.read_csv('video_games_reviews_test.csv')\n",
        "amazon_dev = pd.read_csv('video_games_reviews_dev.csv')"
      ],
      "metadata": {
        "id": "xTcZ4jpFF2if"
      },
      "execution_count": 2,
      "outputs": []
    },
    {
      "cell_type": "code",
      "source": [
        "amazon_train.head()"
      ],
      "metadata": {
        "colab": {
          "base_uri": "https://localhost:8080/",
          "height": 475
        },
        "id": "dgdKYDfJF45P",
        "outputId": "87087033-7858-41d2-e9bf-ff0644dcf01f"
      },
      "execution_count": 3,
      "outputs": [
        {
          "output_type": "execute_result",
          "data": {
            "text/html": [
              "\n",
              "  <div id=\"df-1e721087-6ce7-4e0a-8ef9-6a40fe7c0f21\">\n",
              "    <div class=\"colab-df-container\">\n",
              "      <div>\n",
              "<style scoped>\n",
              "    .dataframe tbody tr th:only-of-type {\n",
              "        vertical-align: middle;\n",
              "    }\n",
              "\n",
              "    .dataframe tbody tr th {\n",
              "        vertical-align: top;\n",
              "    }\n",
              "\n",
              "    .dataframe thead th {\n",
              "        text-align: right;\n",
              "    }\n",
              "</style>\n",
              "<table border=\"1\" class=\"dataframe\">\n",
              "  <thead>\n",
              "    <tr style=\"text-align: right;\">\n",
              "      <th></th>\n",
              "      <th>level_0</th>\n",
              "      <th>index</th>\n",
              "      <th>reviewerID</th>\n",
              "      <th>asin</th>\n",
              "      <th>reviewerName</th>\n",
              "      <th>helpful</th>\n",
              "      <th>reviewText</th>\n",
              "      <th>overall</th>\n",
              "      <th>summary</th>\n",
              "      <th>unixReviewTime</th>\n",
              "      <th>reviewTime</th>\n",
              "    </tr>\n",
              "  </thead>\n",
              "  <tbody>\n",
              "    <tr>\n",
              "      <th>0</th>\n",
              "      <td>9604</td>\n",
              "      <td>222941</td>\n",
              "      <td>A1U1AK7HKB2BLN</td>\n",
              "      <td>B00CX6XKK6</td>\n",
              "      <td>jayfer</td>\n",
              "      <td>[4, 51]</td>\n",
              "      <td>ive got to play this on both consoles now and ...</td>\n",
              "      <td>1</td>\n",
              "      <td>wasted 500 dollars on the xbox one.</td>\n",
              "      <td>1385078400</td>\n",
              "      <td>11 22, 2013</td>\n",
              "    </tr>\n",
              "    <tr>\n",
              "      <th>1</th>\n",
              "      <td>5428</td>\n",
              "      <td>106670</td>\n",
              "      <td>A1L1D50VH2AX7J</td>\n",
              "      <td>B0017UFWMS</td>\n",
              "      <td>Anjoyla</td>\n",
              "      <td>[0, 0]</td>\n",
              "      <td>This game gives you a series of word puzzles t...</td>\n",
              "      <td>2</td>\n",
              "      <td>Margots Word Brain</td>\n",
              "      <td>1321833600</td>\n",
              "      <td>11 21, 2011</td>\n",
              "    </tr>\n",
              "    <tr>\n",
              "      <th>2</th>\n",
              "      <td>198</td>\n",
              "      <td>24455</td>\n",
              "      <td>A2JWU211CM0BYE</td>\n",
              "      <td>B00005RCR0</td>\n",
              "      <td>DCN2049</td>\n",
              "      <td>[0, 1]</td>\n",
              "      <td>You should pretty much already know what this ...</td>\n",
              "      <td>4</td>\n",
              "      <td>Excellent product, watch the discs</td>\n",
              "      <td>1360540800</td>\n",
              "      <td>02 11, 2013</td>\n",
              "    </tr>\n",
              "    <tr>\n",
              "      <th>3</th>\n",
              "      <td>6070</td>\n",
              "      <td>42574</td>\n",
              "      <td>A1DP3YZ2OQWAP4</td>\n",
              "      <td>B0000ARQMW</td>\n",
              "      <td>liz</td>\n",
              "      <td>[0, 0]</td>\n",
              "      <td>I really like this game i love all the challen...</td>\n",
              "      <td>5</td>\n",
              "      <td>Jammin banging game</td>\n",
              "      <td>1383436800</td>\n",
              "      <td>11 3, 2013</td>\n",
              "    </tr>\n",
              "    <tr>\n",
              "      <th>4</th>\n",
              "      <td>11616</td>\n",
              "      <td>172598</td>\n",
              "      <td>A48Z207T98FN0</td>\n",
              "      <td>B004HYK8Y8</td>\n",
              "      <td>The Reverend</td>\n",
              "      <td>[296, 368]</td>\n",
              "      <td>*** please read the 12/9/11 update below this ...</td>\n",
              "      <td>1</td>\n",
              "      <td>Consumers are NOT Beta-Testers !!! (updated)</td>\n",
              "      <td>1322784000</td>\n",
              "      <td>12 2, 2011</td>\n",
              "    </tr>\n",
              "  </tbody>\n",
              "</table>\n",
              "</div>\n",
              "      <button class=\"colab-df-convert\" onclick=\"convertToInteractive('df-1e721087-6ce7-4e0a-8ef9-6a40fe7c0f21')\"\n",
              "              title=\"Convert this dataframe to an interactive table.\"\n",
              "              style=\"display:none;\">\n",
              "        \n",
              "  <svg xmlns=\"http://www.w3.org/2000/svg\" height=\"24px\"viewBox=\"0 0 24 24\"\n",
              "       width=\"24px\">\n",
              "    <path d=\"M0 0h24v24H0V0z\" fill=\"none\"/>\n",
              "    <path d=\"M18.56 5.44l.94 2.06.94-2.06 2.06-.94-2.06-.94-.94-2.06-.94 2.06-2.06.94zm-11 1L8.5 8.5l.94-2.06 2.06-.94-2.06-.94L8.5 2.5l-.94 2.06-2.06.94zm10 10l.94 2.06.94-2.06 2.06-.94-2.06-.94-.94-2.06-.94 2.06-2.06.94z\"/><path d=\"M17.41 7.96l-1.37-1.37c-.4-.4-.92-.59-1.43-.59-.52 0-1.04.2-1.43.59L10.3 9.45l-7.72 7.72c-.78.78-.78 2.05 0 2.83L4 21.41c.39.39.9.59 1.41.59.51 0 1.02-.2 1.41-.59l7.78-7.78 2.81-2.81c.8-.78.8-2.07 0-2.86zM5.41 20L4 18.59l7.72-7.72 1.47 1.35L5.41 20z\"/>\n",
              "  </svg>\n",
              "      </button>\n",
              "      \n",
              "  <style>\n",
              "    .colab-df-container {\n",
              "      display:flex;\n",
              "      flex-wrap:wrap;\n",
              "      gap: 12px;\n",
              "    }\n",
              "\n",
              "    .colab-df-convert {\n",
              "      background-color: #E8F0FE;\n",
              "      border: none;\n",
              "      border-radius: 50%;\n",
              "      cursor: pointer;\n",
              "      display: none;\n",
              "      fill: #1967D2;\n",
              "      height: 32px;\n",
              "      padding: 0 0 0 0;\n",
              "      width: 32px;\n",
              "    }\n",
              "\n",
              "    .colab-df-convert:hover {\n",
              "      background-color: #E2EBFA;\n",
              "      box-shadow: 0px 1px 2px rgba(60, 64, 67, 0.3), 0px 1px 3px 1px rgba(60, 64, 67, 0.15);\n",
              "      fill: #174EA6;\n",
              "    }\n",
              "\n",
              "    [theme=dark] .colab-df-convert {\n",
              "      background-color: #3B4455;\n",
              "      fill: #D2E3FC;\n",
              "    }\n",
              "\n",
              "    [theme=dark] .colab-df-convert:hover {\n",
              "      background-color: #434B5C;\n",
              "      box-shadow: 0px 1px 3px 1px rgba(0, 0, 0, 0.15);\n",
              "      filter: drop-shadow(0px 1px 2px rgba(0, 0, 0, 0.3));\n",
              "      fill: #FFFFFF;\n",
              "    }\n",
              "  </style>\n",
              "\n",
              "      <script>\n",
              "        const buttonEl =\n",
              "          document.querySelector('#df-1e721087-6ce7-4e0a-8ef9-6a40fe7c0f21 button.colab-df-convert');\n",
              "        buttonEl.style.display =\n",
              "          google.colab.kernel.accessAllowed ? 'block' : 'none';\n",
              "\n",
              "        async function convertToInteractive(key) {\n",
              "          const element = document.querySelector('#df-1e721087-6ce7-4e0a-8ef9-6a40fe7c0f21');\n",
              "          const dataTable =\n",
              "            await google.colab.kernel.invokeFunction('convertToInteractive',\n",
              "                                                     [key], {});\n",
              "          if (!dataTable) return;\n",
              "\n",
              "          const docLinkHtml = 'Like what you see? Visit the ' +\n",
              "            '<a target=\"_blank\" href=https://colab.research.google.com/notebooks/data_table.ipynb>data table notebook</a>'\n",
              "            + ' to learn more about interactive tables.';\n",
              "          element.innerHTML = '';\n",
              "          dataTable['output_type'] = 'display_data';\n",
              "          await google.colab.output.renderOutput(dataTable, element);\n",
              "          const docLink = document.createElement('div');\n",
              "          docLink.innerHTML = docLinkHtml;\n",
              "          element.appendChild(docLink);\n",
              "        }\n",
              "      </script>\n",
              "    </div>\n",
              "  </div>\n",
              "  "
            ],
            "text/plain": [
              "   level_0   index      reviewerID        asin  reviewerName     helpful  \\\n",
              "0     9604  222941  A1U1AK7HKB2BLN  B00CX6XKK6        jayfer     [4, 51]   \n",
              "1     5428  106670  A1L1D50VH2AX7J  B0017UFWMS       Anjoyla      [0, 0]   \n",
              "2      198   24455  A2JWU211CM0BYE  B00005RCR0       DCN2049      [0, 1]   \n",
              "3     6070   42574  A1DP3YZ2OQWAP4  B0000ARQMW           liz      [0, 0]   \n",
              "4    11616  172598   A48Z207T98FN0  B004HYK8Y8  The Reverend  [296, 368]   \n",
              "\n",
              "                                          reviewText  overall  \\\n",
              "0  ive got to play this on both consoles now and ...        1   \n",
              "1  This game gives you a series of word puzzles t...        2   \n",
              "2  You should pretty much already know what this ...        4   \n",
              "3  I really like this game i love all the challen...        5   \n",
              "4  *** please read the 12/9/11 update below this ...        1   \n",
              "\n",
              "                                        summary  unixReviewTime   reviewTime  \n",
              "0           wasted 500 dollars on the xbox one.      1385078400  11 22, 2013  \n",
              "1                            Margots Word Brain      1321833600  11 21, 2011  \n",
              "2            Excellent product, watch the discs      1360540800  02 11, 2013  \n",
              "3                           Jammin banging game      1383436800   11 3, 2013  \n",
              "4  Consumers are NOT Beta-Testers !!! (updated)      1322784000   12 2, 2011  "
            ]
          },
          "metadata": {},
          "execution_count": 3
        }
      ]
    },
    {
      "cell_type": "markdown",
      "source": [
        "**Descrição das colunas:**\n",
        "\n",
        "reviewerID - ID da pessoa do review\n",
        "\n",
        "asin - ID do produto\n",
        "\n",
        "reviewerName - nome do reviewer\n",
        "\n",
        "helpful - classificação da review\n",
        "\n",
        "reviewText - texto review → *importante*\n",
        "\n",
        "overall - nota do produto → *importante*\n",
        "\n",
        "summary - sumário da review\n",
        "\n",
        "unixReviewTime - data da review (unix time)\n",
        "\n",
        "reviewTime - data da review"
      ],
      "metadata": {
        "id": "N1tcithZF9zw"
      }
    },
    {
      "cell_type": "code",
      "source": [
        "amazon_train.info()"
      ],
      "metadata": {
        "colab": {
          "base_uri": "https://localhost:8080/"
        },
        "id": "bVfxjk9SGL5e",
        "outputId": "5279bb5c-18bc-4dcf-dcd9-35a6b66352f5"
      },
      "execution_count": 4,
      "outputs": [
        {
          "output_type": "stream",
          "name": "stdout",
          "text": [
            "<class 'pandas.core.frame.DataFrame'>\n",
            "RangeIndex: 8000 entries, 0 to 7999\n",
            "Data columns (total 11 columns):\n",
            " #   Column          Non-Null Count  Dtype \n",
            "---  ------          --------------  ----- \n",
            " 0   level_0         8000 non-null   int64 \n",
            " 1   index           8000 non-null   int64 \n",
            " 2   reviewerID      8000 non-null   object\n",
            " 3   asin            8000 non-null   object\n",
            " 4   reviewerName    7916 non-null   object\n",
            " 5   helpful         8000 non-null   object\n",
            " 6   reviewText      7999 non-null   object\n",
            " 7   overall         8000 non-null   int64 \n",
            " 8   summary         8000 non-null   object\n",
            " 9   unixReviewTime  8000 non-null   int64 \n",
            " 10  reviewTime      8000 non-null   object\n",
            "dtypes: int64(4), object(7)\n",
            "memory usage: 687.6+ KB\n"
          ]
        }
      ]
    },
    {
      "cell_type": "code",
      "source": [
        "amazon_test.info()"
      ],
      "metadata": {
        "colab": {
          "base_uri": "https://localhost:8080/"
        },
        "id": "xtF6t3JYG1A4",
        "outputId": "2cea72c6-73b4-4311-9cb3-0c4a7b1799ea"
      },
      "execution_count": 5,
      "outputs": [
        {
          "output_type": "stream",
          "name": "stdout",
          "text": [
            "<class 'pandas.core.frame.DataFrame'>\n",
            "RangeIndex: 2500 entries, 0 to 2499\n",
            "Data columns (total 11 columns):\n",
            " #   Column          Non-Null Count  Dtype \n",
            "---  ------          --------------  ----- \n",
            " 0   level_0         2500 non-null   int64 \n",
            " 1   index           2500 non-null   int64 \n",
            " 2   reviewerID      2500 non-null   object\n",
            " 3   asin            2500 non-null   object\n",
            " 4   reviewerName    2471 non-null   object\n",
            " 5   helpful         2500 non-null   object\n",
            " 6   reviewText      2499 non-null   object\n",
            " 7   overall         2500 non-null   int64 \n",
            " 8   summary         2500 non-null   object\n",
            " 9   unixReviewTime  2500 non-null   int64 \n",
            " 10  reviewTime      2500 non-null   object\n",
            "dtypes: int64(4), object(7)\n",
            "memory usage: 215.0+ KB\n"
          ]
        }
      ]
    },
    {
      "cell_type": "code",
      "source": [
        "amazon_dev.info()"
      ],
      "metadata": {
        "colab": {
          "base_uri": "https://localhost:8080/"
        },
        "id": "mVk94klEHbA3",
        "outputId": "4c31b429-a8e0-4e36-acce-170c3632299d"
      },
      "execution_count": 6,
      "outputs": [
        {
          "output_type": "stream",
          "name": "stdout",
          "text": [
            "<class 'pandas.core.frame.DataFrame'>\n",
            "RangeIndex: 2000 entries, 0 to 1999\n",
            "Data columns (total 11 columns):\n",
            " #   Column          Non-Null Count  Dtype \n",
            "---  ------          --------------  ----- \n",
            " 0   level_0         2000 non-null   int64 \n",
            " 1   index           2000 non-null   int64 \n",
            " 2   reviewerID      2000 non-null   object\n",
            " 3   asin            2000 non-null   object\n",
            " 4   reviewerName    1970 non-null   object\n",
            " 5   helpful         2000 non-null   object\n",
            " 6   reviewText      2000 non-null   object\n",
            " 7   overall         2000 non-null   int64 \n",
            " 8   summary         2000 non-null   object\n",
            " 9   unixReviewTime  2000 non-null   int64 \n",
            " 10  reviewTime      2000 non-null   object\n",
            "dtypes: int64(4), object(7)\n",
            "memory usage: 172.0+ KB\n"
          ]
        }
      ]
    },
    {
      "cell_type": "markdown",
      "source": [
        "##Limpeza dos dados"
      ],
      "metadata": {
        "id": "p3qEU_rsP9ld"
      }
    },
    {
      "cell_type": "markdown",
      "source": [
        "Limparei apenas os dados faltantes na coluna dos reviews pois é a parte em que trabalharemos nesse projeto. "
      ],
      "metadata": {
        "id": "G8aQSNxYQhNU"
      }
    },
    {
      "cell_type": "code",
      "source": [
        "amazon_train = amazon_train[~amazon_train['reviewText'].isnull()]"
      ],
      "metadata": {
        "id": "mJEEArW6P_ck"
      },
      "execution_count": 7,
      "outputs": []
    },
    {
      "cell_type": "code",
      "source": [
        "amazon_test = amazon_test[~amazon_test['reviewText'].isnull()]"
      ],
      "metadata": {
        "id": "Vi2b8jSrQO-m"
      },
      "execution_count": 8,
      "outputs": []
    },
    {
      "cell_type": "markdown",
      "source": [
        "##Pré-processamento"
      ],
      "metadata": {
        "id": "-yQMxYYkaUeT"
      }
    },
    {
      "cell_type": "markdown",
      "source": [
        "Etapa necessária para simplificar e reduzir o texto para o processamento eficaz dos modelos."
      ],
      "metadata": {
        "id": "EmQL5GWs5tv1"
      }
    },
    {
      "cell_type": "code",
      "source": [
        "!spacy download en_core_web_sm"
      ],
      "metadata": {
        "colab": {
          "base_uri": "https://localhost:8080/"
        },
        "id": "k3M1lcN7xdcw",
        "outputId": "72d1fdc9-b2c7-4154-f969-85a6fb3d1830"
      },
      "execution_count": 9,
      "outputs": [
        {
          "output_type": "stream",
          "name": "stdout",
          "text": [
            "Collecting en_core_web_sm==2.2.5\n",
            "  Downloading https://github.com/explosion/spacy-models/releases/download/en_core_web_sm-2.2.5/en_core_web_sm-2.2.5.tar.gz (12.0 MB)\n",
            "\u001b[K     |████████████████████████████████| 12.0 MB 3.5 MB/s \n",
            "\u001b[?25hRequirement already satisfied: spacy>=2.2.2 in /usr/local/lib/python3.7/dist-packages (from en_core_web_sm==2.2.5) (2.2.4)\n",
            "Requirement already satisfied: requests<3.0.0,>=2.13.0 in /usr/local/lib/python3.7/dist-packages (from spacy>=2.2.2->en_core_web_sm==2.2.5) (2.23.0)\n",
            "Requirement already satisfied: srsly<1.1.0,>=1.0.2 in /usr/local/lib/python3.7/dist-packages (from spacy>=2.2.2->en_core_web_sm==2.2.5) (1.0.5)\n",
            "Requirement already satisfied: catalogue<1.1.0,>=0.0.7 in /usr/local/lib/python3.7/dist-packages (from spacy>=2.2.2->en_core_web_sm==2.2.5) (1.0.0)\n",
            "Requirement already satisfied: setuptools in /usr/local/lib/python3.7/dist-packages (from spacy>=2.2.2->en_core_web_sm==2.2.5) (57.4.0)\n",
            "Requirement already satisfied: thinc==7.4.0 in /usr/local/lib/python3.7/dist-packages (from spacy>=2.2.2->en_core_web_sm==2.2.5) (7.4.0)\n",
            "Requirement already satisfied: murmurhash<1.1.0,>=0.28.0 in /usr/local/lib/python3.7/dist-packages (from spacy>=2.2.2->en_core_web_sm==2.2.5) (1.0.6)\n",
            "Requirement already satisfied: numpy>=1.15.0 in /usr/local/lib/python3.7/dist-packages (from spacy>=2.2.2->en_core_web_sm==2.2.5) (1.21.5)\n",
            "Requirement already satisfied: blis<0.5.0,>=0.4.0 in /usr/local/lib/python3.7/dist-packages (from spacy>=2.2.2->en_core_web_sm==2.2.5) (0.4.1)\n",
            "Requirement already satisfied: tqdm<5.0.0,>=4.38.0 in /usr/local/lib/python3.7/dist-packages (from spacy>=2.2.2->en_core_web_sm==2.2.5) (4.63.0)\n",
            "Requirement already satisfied: plac<1.2.0,>=0.9.6 in /usr/local/lib/python3.7/dist-packages (from spacy>=2.2.2->en_core_web_sm==2.2.5) (1.1.3)\n",
            "Requirement already satisfied: preshed<3.1.0,>=3.0.2 in /usr/local/lib/python3.7/dist-packages (from spacy>=2.2.2->en_core_web_sm==2.2.5) (3.0.6)\n",
            "Requirement already satisfied: wasabi<1.1.0,>=0.4.0 in /usr/local/lib/python3.7/dist-packages (from spacy>=2.2.2->en_core_web_sm==2.2.5) (0.9.0)\n",
            "Requirement already satisfied: cymem<2.1.0,>=2.0.2 in /usr/local/lib/python3.7/dist-packages (from spacy>=2.2.2->en_core_web_sm==2.2.5) (2.0.6)\n",
            "Requirement already satisfied: importlib-metadata>=0.20 in /usr/local/lib/python3.7/dist-packages (from catalogue<1.1.0,>=0.0.7->spacy>=2.2.2->en_core_web_sm==2.2.5) (4.11.2)\n",
            "Requirement already satisfied: typing-extensions>=3.6.4 in /usr/local/lib/python3.7/dist-packages (from importlib-metadata>=0.20->catalogue<1.1.0,>=0.0.7->spacy>=2.2.2->en_core_web_sm==2.2.5) (3.10.0.2)\n",
            "Requirement already satisfied: zipp>=0.5 in /usr/local/lib/python3.7/dist-packages (from importlib-metadata>=0.20->catalogue<1.1.0,>=0.0.7->spacy>=2.2.2->en_core_web_sm==2.2.5) (3.7.0)\n",
            "Requirement already satisfied: idna<3,>=2.5 in /usr/local/lib/python3.7/dist-packages (from requests<3.0.0,>=2.13.0->spacy>=2.2.2->en_core_web_sm==2.2.5) (2.10)\n",
            "Requirement already satisfied: chardet<4,>=3.0.2 in /usr/local/lib/python3.7/dist-packages (from requests<3.0.0,>=2.13.0->spacy>=2.2.2->en_core_web_sm==2.2.5) (3.0.4)\n",
            "Requirement already satisfied: certifi>=2017.4.17 in /usr/local/lib/python3.7/dist-packages (from requests<3.0.0,>=2.13.0->spacy>=2.2.2->en_core_web_sm==2.2.5) (2021.10.8)\n",
            "Requirement already satisfied: urllib3!=1.25.0,!=1.25.1,<1.26,>=1.21.1 in /usr/local/lib/python3.7/dist-packages (from requests<3.0.0,>=2.13.0->spacy>=2.2.2->en_core_web_sm==2.2.5) (1.24.3)\n",
            "\u001b[38;5;2m✔ Download and installation successful\u001b[0m\n",
            "You can now load the model via spacy.load('en_core_web_sm')\n"
          ]
        }
      ]
    },
    {
      "cell_type": "code",
      "source": [
        "import spacy\n",
        "nlp = spacy.load(\"en_core_web_sm\") # lematizador da biblioteca spacy"
      ],
      "metadata": {
        "id": "NxMLGMJ6ya9H"
      },
      "execution_count": 10,
      "outputs": []
    },
    {
      "cell_type": "code",
      "source": [
        "stopwords = nltk.corpus.stopwords.words('english')"
      ],
      "metadata": {
        "id": "NKhMOboly88l"
      },
      "execution_count": 11,
      "outputs": []
    },
    {
      "cell_type": "code",
      "source": [
        "def limpa_texto(texto):\n",
        "  '''\n",
        "  Essa funcao recebe uma string, deixa tudo em minusculo, filtra apenas letras,\n",
        "  retira stopwords, lemmatiza e retorna a string resultante.\n",
        "  \n",
        "  '''\n",
        "  texto = texto.lower()\n",
        "\n",
        "  texto = re.sub(r\"[\\W\\d_]+\", \" \", texto)\n",
        "\n",
        "  texto = [pal for pal in texto.split() if pal not in stopwords]\n",
        "\n",
        "  spc_texto = nlp(\" \".join(texto))\n",
        "  tokens = [word.lemma_ if word.lemma_ != \"-PRON-\" else word.lower_ for word in spc_texto]\n",
        "  \n",
        "  return \" \".join(tokens)"
      ],
      "metadata": {
        "id": "lQl22MfzxV9n"
      },
      "execution_count": 12,
      "outputs": []
    },
    {
      "cell_type": "markdown",
      "source": [
        "Aplicando a função em um novo dataframe:"
      ],
      "metadata": {
        "id": "qX2-fCf45QVe"
      }
    },
    {
      "cell_type": "code",
      "source": [
        "df_train = pd.DataFrame()\n",
        "df_test = pd.DataFrame()\n",
        "df_dev = pd.DataFrame()"
      ],
      "metadata": {
        "id": "2WYIdj5dzZlG"
      },
      "execution_count": 13,
      "outputs": []
    },
    {
      "cell_type": "code",
      "source": [
        "df_train['Nota'] = amazon_train['overall']\n",
        "df_train['Review'] = amazon_train['reviewText'].apply(limpa_texto)"
      ],
      "metadata": {
        "id": "tzTj5j0-zpte"
      },
      "execution_count": 14,
      "outputs": []
    },
    {
      "cell_type": "code",
      "source": [
        "df_test['Nota'] = amazon_test['overall']\n",
        "df_test['Review'] = amazon_test['reviewText'].apply(limpa_texto)"
      ],
      "metadata": {
        "id": "yfjpwENh3e0-"
      },
      "execution_count": 15,
      "outputs": []
    },
    {
      "cell_type": "code",
      "source": [
        "df_dev['Nota'] = amazon_dev['overall']\n",
        "df_dev['Review'] = amazon_dev['reviewText'].apply(limpa_texto)"
      ],
      "metadata": {
        "id": "XeqmZ1J03lzF"
      },
      "execution_count": 16,
      "outputs": []
    },
    {
      "cell_type": "markdown",
      "source": [
        "###Tokenização"
      ],
      "metadata": {
        "id": "9LCuHAPCGA91"
      }
    },
    {
      "cell_type": "markdown",
      "source": [
        "Para uma melhor análise do texto, é interessante separar as palavras de forma única, formando tokens. Aqui, farei isso somento no `df_train`."
      ],
      "metadata": {
        "id": "Q1pZSpKuMw8B"
      }
    },
    {
      "cell_type": "code",
      "source": [
        "df_train['Tokenização'] = df_train['Review'].apply(word_tokenize) "
      ],
      "metadata": {
        "id": "uFIC7f8EGD4J"
      },
      "execution_count": 17,
      "outputs": []
    },
    {
      "cell_type": "code",
      "source": [
        "df_train"
      ],
      "metadata": {
        "colab": {
          "base_uri": "https://localhost:8080/",
          "height": 423
        },
        "id": "FndRYG3CItEQ",
        "outputId": "7adf0dd9-c1b1-4916-867c-dc8e2cb7b5ac"
      },
      "execution_count": 18,
      "outputs": [
        {
          "output_type": "execute_result",
          "data": {
            "text/html": [
              "\n",
              "  <div id=\"df-1473986b-d212-4cbb-9154-8c3b40cbb3d8\">\n",
              "    <div class=\"colab-df-container\">\n",
              "      <div>\n",
              "<style scoped>\n",
              "    .dataframe tbody tr th:only-of-type {\n",
              "        vertical-align: middle;\n",
              "    }\n",
              "\n",
              "    .dataframe tbody tr th {\n",
              "        vertical-align: top;\n",
              "    }\n",
              "\n",
              "    .dataframe thead th {\n",
              "        text-align: right;\n",
              "    }\n",
              "</style>\n",
              "<table border=\"1\" class=\"dataframe\">\n",
              "  <thead>\n",
              "    <tr style=\"text-align: right;\">\n",
              "      <th></th>\n",
              "      <th>Nota</th>\n",
              "      <th>Review</th>\n",
              "      <th>Tokenização</th>\n",
              "    </tr>\n",
              "  </thead>\n",
              "  <tbody>\n",
              "    <tr>\n",
              "      <th>0</th>\n",
              "      <td>1</td>\n",
              "      <td>i have get play console honestly say look x be...</td>\n",
              "      <td>[i, have, get, play, console, honestly, say, l...</td>\n",
              "    </tr>\n",
              "    <tr>\n",
              "      <th>1</th>\n",
              "      <td>2</td>\n",
              "      <td>game give series word puzzle figure buy fan sc...</td>\n",
              "      <td>[game, give, series, word, puzzle, figure, buy...</td>\n",
              "    </tr>\n",
              "    <tr>\n",
              "      <th>2</th>\n",
              "      <td>4</td>\n",
              "      <td>pretty much already know game reading review b...</td>\n",
              "      <td>[pretty, much, already, know, game, reading, r...</td>\n",
              "    </tr>\n",
              "    <tr>\n",
              "      <th>3</th>\n",
              "      <td>5</td>\n",
              "      <td>really like game love challenge love different...</td>\n",
              "      <td>[really, like, game, love, challenge, love, di...</td>\n",
              "    </tr>\n",
              "    <tr>\n",
              "      <th>4</th>\n",
              "      <td>1</td>\n",
              "      <td>please read update article ps user bad news ma...</td>\n",
              "      <td>[please, read, update, article, ps, user, bad,...</td>\n",
              "    </tr>\n",
              "    <tr>\n",
              "      <th>...</th>\n",
              "      <td>...</td>\n",
              "      <td>...</td>\n",
              "      <td>...</td>\n",
              "    </tr>\n",
              "    <tr>\n",
              "      <th>7995</th>\n",
              "      <td>3</td>\n",
              "      <td>arrive mail promptly work great far download d...</td>\n",
              "      <td>[arrive, mail, promptly, work, great, far, dow...</td>\n",
              "    </tr>\n",
              "    <tr>\n",
              "      <th>7996</th>\n",
              "      <td>2</td>\n",
              "      <td>game perfect example style substance good grap...</td>\n",
              "      <td>[game, perfect, example, style, substance, goo...</td>\n",
              "    </tr>\n",
              "    <tr>\n",
              "      <th>7997</th>\n",
              "      <td>5</td>\n",
              "      <td>let tell start big yu gi oh fan collect card m...</td>\n",
              "      <td>[let, tell, start, big, yu, gi, oh, fan, colle...</td>\n",
              "    </tr>\n",
              "    <tr>\n",
              "      <th>7998</th>\n",
              "      <td>5</td>\n",
              "      <td>new game deliver buy game solely web swing aro...</td>\n",
              "      <td>[new, game, deliver, buy, game, solely, web, s...</td>\n",
              "    </tr>\n",
              "    <tr>\n",
              "      <th>7999</th>\n",
              "      <td>5</td>\n",
              "      <td>fun game graphic sound spot gameplay smooth ga...</td>\n",
              "      <td>[fun, game, graphic, sound, spot, gameplay, sm...</td>\n",
              "    </tr>\n",
              "  </tbody>\n",
              "</table>\n",
              "<p>7999 rows × 3 columns</p>\n",
              "</div>\n",
              "      <button class=\"colab-df-convert\" onclick=\"convertToInteractive('df-1473986b-d212-4cbb-9154-8c3b40cbb3d8')\"\n",
              "              title=\"Convert this dataframe to an interactive table.\"\n",
              "              style=\"display:none;\">\n",
              "        \n",
              "  <svg xmlns=\"http://www.w3.org/2000/svg\" height=\"24px\"viewBox=\"0 0 24 24\"\n",
              "       width=\"24px\">\n",
              "    <path d=\"M0 0h24v24H0V0z\" fill=\"none\"/>\n",
              "    <path d=\"M18.56 5.44l.94 2.06.94-2.06 2.06-.94-2.06-.94-.94-2.06-.94 2.06-2.06.94zm-11 1L8.5 8.5l.94-2.06 2.06-.94-2.06-.94L8.5 2.5l-.94 2.06-2.06.94zm10 10l.94 2.06.94-2.06 2.06-.94-2.06-.94-.94-2.06-.94 2.06-2.06.94z\"/><path d=\"M17.41 7.96l-1.37-1.37c-.4-.4-.92-.59-1.43-.59-.52 0-1.04.2-1.43.59L10.3 9.45l-7.72 7.72c-.78.78-.78 2.05 0 2.83L4 21.41c.39.39.9.59 1.41.59.51 0 1.02-.2 1.41-.59l7.78-7.78 2.81-2.81c.8-.78.8-2.07 0-2.86zM5.41 20L4 18.59l7.72-7.72 1.47 1.35L5.41 20z\"/>\n",
              "  </svg>\n",
              "      </button>\n",
              "      \n",
              "  <style>\n",
              "    .colab-df-container {\n",
              "      display:flex;\n",
              "      flex-wrap:wrap;\n",
              "      gap: 12px;\n",
              "    }\n",
              "\n",
              "    .colab-df-convert {\n",
              "      background-color: #E8F0FE;\n",
              "      border: none;\n",
              "      border-radius: 50%;\n",
              "      cursor: pointer;\n",
              "      display: none;\n",
              "      fill: #1967D2;\n",
              "      height: 32px;\n",
              "      padding: 0 0 0 0;\n",
              "      width: 32px;\n",
              "    }\n",
              "\n",
              "    .colab-df-convert:hover {\n",
              "      background-color: #E2EBFA;\n",
              "      box-shadow: 0px 1px 2px rgba(60, 64, 67, 0.3), 0px 1px 3px 1px rgba(60, 64, 67, 0.15);\n",
              "      fill: #174EA6;\n",
              "    }\n",
              "\n",
              "    [theme=dark] .colab-df-convert {\n",
              "      background-color: #3B4455;\n",
              "      fill: #D2E3FC;\n",
              "    }\n",
              "\n",
              "    [theme=dark] .colab-df-convert:hover {\n",
              "      background-color: #434B5C;\n",
              "      box-shadow: 0px 1px 3px 1px rgba(0, 0, 0, 0.15);\n",
              "      filter: drop-shadow(0px 1px 2px rgba(0, 0, 0, 0.3));\n",
              "      fill: #FFFFFF;\n",
              "    }\n",
              "  </style>\n",
              "\n",
              "      <script>\n",
              "        const buttonEl =\n",
              "          document.querySelector('#df-1473986b-d212-4cbb-9154-8c3b40cbb3d8 button.colab-df-convert');\n",
              "        buttonEl.style.display =\n",
              "          google.colab.kernel.accessAllowed ? 'block' : 'none';\n",
              "\n",
              "        async function convertToInteractive(key) {\n",
              "          const element = document.querySelector('#df-1473986b-d212-4cbb-9154-8c3b40cbb3d8');\n",
              "          const dataTable =\n",
              "            await google.colab.kernel.invokeFunction('convertToInteractive',\n",
              "                                                     [key], {});\n",
              "          if (!dataTable) return;\n",
              "\n",
              "          const docLinkHtml = 'Like what you see? Visit the ' +\n",
              "            '<a target=\"_blank\" href=https://colab.research.google.com/notebooks/data_table.ipynb>data table notebook</a>'\n",
              "            + ' to learn more about interactive tables.';\n",
              "          element.innerHTML = '';\n",
              "          dataTable['output_type'] = 'display_data';\n",
              "          await google.colab.output.renderOutput(dataTable, element);\n",
              "          const docLink = document.createElement('div');\n",
              "          docLink.innerHTML = docLinkHtml;\n",
              "          element.appendChild(docLink);\n",
              "        }\n",
              "      </script>\n",
              "    </div>\n",
              "  </div>\n",
              "  "
            ],
            "text/plain": [
              "      Nota                                             Review  \\\n",
              "0        1  i have get play console honestly say look x be...   \n",
              "1        2  game give series word puzzle figure buy fan sc...   \n",
              "2        4  pretty much already know game reading review b...   \n",
              "3        5  really like game love challenge love different...   \n",
              "4        1  please read update article ps user bad news ma...   \n",
              "...    ...                                                ...   \n",
              "7995     3  arrive mail promptly work great far download d...   \n",
              "7996     2  game perfect example style substance good grap...   \n",
              "7997     5  let tell start big yu gi oh fan collect card m...   \n",
              "7998     5  new game deliver buy game solely web swing aro...   \n",
              "7999     5  fun game graphic sound spot gameplay smooth ga...   \n",
              "\n",
              "                                            Tokenização  \n",
              "0     [i, have, get, play, console, honestly, say, l...  \n",
              "1     [game, give, series, word, puzzle, figure, buy...  \n",
              "2     [pretty, much, already, know, game, reading, r...  \n",
              "3     [really, like, game, love, challenge, love, di...  \n",
              "4     [please, read, update, article, ps, user, bad,...  \n",
              "...                                                 ...  \n",
              "7995  [arrive, mail, promptly, work, great, far, dow...  \n",
              "7996  [game, perfect, example, style, substance, goo...  \n",
              "7997  [let, tell, start, big, yu, gi, oh, fan, colle...  \n",
              "7998  [new, game, deliver, buy, game, solely, web, s...  \n",
              "7999  [fun, game, graphic, sound, spot, gameplay, sm...  \n",
              "\n",
              "[7999 rows x 3 columns]"
            ]
          },
          "metadata": {},
          "execution_count": 18
        }
      ]
    },
    {
      "cell_type": "markdown",
      "source": [
        "###Notas"
      ],
      "metadata": {
        "id": "znaPNhOGL1Nh"
      }
    },
    {
      "cell_type": "markdown",
      "source": [
        "Aqui é interessante atribuir um valor binário as notas dadas, que vão até 5. Com isso, as notas 1, 2 e 3 receberão o valor 0 (negativo) e as de valor 4 e 5 o valor 1 (positivo)."
      ],
      "metadata": {
        "id": "sOE3maP1L2-0"
      }
    },
    {
      "cell_type": "code",
      "source": [
        "df_train['Nota'] = np.where(df_train.Nota>3,1,0)\n",
        "df_test['Nota'] = np.where(df_test.Nota>3,1,0)\n",
        "df_dev['Nota'] = np.where(df_dev.Nota>3,1,0)"
      ],
      "metadata": {
        "id": "4ZJuqT6lMLve"
      },
      "execution_count": 19,
      "outputs": []
    },
    {
      "cell_type": "code",
      "source": [
        "df_train"
      ],
      "metadata": {
        "colab": {
          "base_uri": "https://localhost:8080/",
          "height": 423
        },
        "id": "HWXijXKONhZ8",
        "outputId": "56cc36a5-6641-49be-f96e-a3b3a8c1c482"
      },
      "execution_count": 20,
      "outputs": [
        {
          "output_type": "execute_result",
          "data": {
            "text/html": [
              "\n",
              "  <div id=\"df-de3c5c1b-80a4-4a2d-9f01-5be6613ba39e\">\n",
              "    <div class=\"colab-df-container\">\n",
              "      <div>\n",
              "<style scoped>\n",
              "    .dataframe tbody tr th:only-of-type {\n",
              "        vertical-align: middle;\n",
              "    }\n",
              "\n",
              "    .dataframe tbody tr th {\n",
              "        vertical-align: top;\n",
              "    }\n",
              "\n",
              "    .dataframe thead th {\n",
              "        text-align: right;\n",
              "    }\n",
              "</style>\n",
              "<table border=\"1\" class=\"dataframe\">\n",
              "  <thead>\n",
              "    <tr style=\"text-align: right;\">\n",
              "      <th></th>\n",
              "      <th>Nota</th>\n",
              "      <th>Review</th>\n",
              "      <th>Tokenização</th>\n",
              "    </tr>\n",
              "  </thead>\n",
              "  <tbody>\n",
              "    <tr>\n",
              "      <th>0</th>\n",
              "      <td>0</td>\n",
              "      <td>i have get play console honestly say look x be...</td>\n",
              "      <td>[i, have, get, play, console, honestly, say, l...</td>\n",
              "    </tr>\n",
              "    <tr>\n",
              "      <th>1</th>\n",
              "      <td>0</td>\n",
              "      <td>game give series word puzzle figure buy fan sc...</td>\n",
              "      <td>[game, give, series, word, puzzle, figure, buy...</td>\n",
              "    </tr>\n",
              "    <tr>\n",
              "      <th>2</th>\n",
              "      <td>1</td>\n",
              "      <td>pretty much already know game reading review b...</td>\n",
              "      <td>[pretty, much, already, know, game, reading, r...</td>\n",
              "    </tr>\n",
              "    <tr>\n",
              "      <th>3</th>\n",
              "      <td>1</td>\n",
              "      <td>really like game love challenge love different...</td>\n",
              "      <td>[really, like, game, love, challenge, love, di...</td>\n",
              "    </tr>\n",
              "    <tr>\n",
              "      <th>4</th>\n",
              "      <td>0</td>\n",
              "      <td>please read update article ps user bad news ma...</td>\n",
              "      <td>[please, read, update, article, ps, user, bad,...</td>\n",
              "    </tr>\n",
              "    <tr>\n",
              "      <th>...</th>\n",
              "      <td>...</td>\n",
              "      <td>...</td>\n",
              "      <td>...</td>\n",
              "    </tr>\n",
              "    <tr>\n",
              "      <th>7995</th>\n",
              "      <td>0</td>\n",
              "      <td>arrive mail promptly work great far download d...</td>\n",
              "      <td>[arrive, mail, promptly, work, great, far, dow...</td>\n",
              "    </tr>\n",
              "    <tr>\n",
              "      <th>7996</th>\n",
              "      <td>0</td>\n",
              "      <td>game perfect example style substance good grap...</td>\n",
              "      <td>[game, perfect, example, style, substance, goo...</td>\n",
              "    </tr>\n",
              "    <tr>\n",
              "      <th>7997</th>\n",
              "      <td>1</td>\n",
              "      <td>let tell start big yu gi oh fan collect card m...</td>\n",
              "      <td>[let, tell, start, big, yu, gi, oh, fan, colle...</td>\n",
              "    </tr>\n",
              "    <tr>\n",
              "      <th>7998</th>\n",
              "      <td>1</td>\n",
              "      <td>new game deliver buy game solely web swing aro...</td>\n",
              "      <td>[new, game, deliver, buy, game, solely, web, s...</td>\n",
              "    </tr>\n",
              "    <tr>\n",
              "      <th>7999</th>\n",
              "      <td>1</td>\n",
              "      <td>fun game graphic sound spot gameplay smooth ga...</td>\n",
              "      <td>[fun, game, graphic, sound, spot, gameplay, sm...</td>\n",
              "    </tr>\n",
              "  </tbody>\n",
              "</table>\n",
              "<p>7999 rows × 3 columns</p>\n",
              "</div>\n",
              "      <button class=\"colab-df-convert\" onclick=\"convertToInteractive('df-de3c5c1b-80a4-4a2d-9f01-5be6613ba39e')\"\n",
              "              title=\"Convert this dataframe to an interactive table.\"\n",
              "              style=\"display:none;\">\n",
              "        \n",
              "  <svg xmlns=\"http://www.w3.org/2000/svg\" height=\"24px\"viewBox=\"0 0 24 24\"\n",
              "       width=\"24px\">\n",
              "    <path d=\"M0 0h24v24H0V0z\" fill=\"none\"/>\n",
              "    <path d=\"M18.56 5.44l.94 2.06.94-2.06 2.06-.94-2.06-.94-.94-2.06-.94 2.06-2.06.94zm-11 1L8.5 8.5l.94-2.06 2.06-.94-2.06-.94L8.5 2.5l-.94 2.06-2.06.94zm10 10l.94 2.06.94-2.06 2.06-.94-2.06-.94-.94-2.06-.94 2.06-2.06.94z\"/><path d=\"M17.41 7.96l-1.37-1.37c-.4-.4-.92-.59-1.43-.59-.52 0-1.04.2-1.43.59L10.3 9.45l-7.72 7.72c-.78.78-.78 2.05 0 2.83L4 21.41c.39.39.9.59 1.41.59.51 0 1.02-.2 1.41-.59l7.78-7.78 2.81-2.81c.8-.78.8-2.07 0-2.86zM5.41 20L4 18.59l7.72-7.72 1.47 1.35L5.41 20z\"/>\n",
              "  </svg>\n",
              "      </button>\n",
              "      \n",
              "  <style>\n",
              "    .colab-df-container {\n",
              "      display:flex;\n",
              "      flex-wrap:wrap;\n",
              "      gap: 12px;\n",
              "    }\n",
              "\n",
              "    .colab-df-convert {\n",
              "      background-color: #E8F0FE;\n",
              "      border: none;\n",
              "      border-radius: 50%;\n",
              "      cursor: pointer;\n",
              "      display: none;\n",
              "      fill: #1967D2;\n",
              "      height: 32px;\n",
              "      padding: 0 0 0 0;\n",
              "      width: 32px;\n",
              "    }\n",
              "\n",
              "    .colab-df-convert:hover {\n",
              "      background-color: #E2EBFA;\n",
              "      box-shadow: 0px 1px 2px rgba(60, 64, 67, 0.3), 0px 1px 3px 1px rgba(60, 64, 67, 0.15);\n",
              "      fill: #174EA6;\n",
              "    }\n",
              "\n",
              "    [theme=dark] .colab-df-convert {\n",
              "      background-color: #3B4455;\n",
              "      fill: #D2E3FC;\n",
              "    }\n",
              "\n",
              "    [theme=dark] .colab-df-convert:hover {\n",
              "      background-color: #434B5C;\n",
              "      box-shadow: 0px 1px 3px 1px rgba(0, 0, 0, 0.15);\n",
              "      filter: drop-shadow(0px 1px 2px rgba(0, 0, 0, 0.3));\n",
              "      fill: #FFFFFF;\n",
              "    }\n",
              "  </style>\n",
              "\n",
              "      <script>\n",
              "        const buttonEl =\n",
              "          document.querySelector('#df-de3c5c1b-80a4-4a2d-9f01-5be6613ba39e button.colab-df-convert');\n",
              "        buttonEl.style.display =\n",
              "          google.colab.kernel.accessAllowed ? 'block' : 'none';\n",
              "\n",
              "        async function convertToInteractive(key) {\n",
              "          const element = document.querySelector('#df-de3c5c1b-80a4-4a2d-9f01-5be6613ba39e');\n",
              "          const dataTable =\n",
              "            await google.colab.kernel.invokeFunction('convertToInteractive',\n",
              "                                                     [key], {});\n",
              "          if (!dataTable) return;\n",
              "\n",
              "          const docLinkHtml = 'Like what you see? Visit the ' +\n",
              "            '<a target=\"_blank\" href=https://colab.research.google.com/notebooks/data_table.ipynb>data table notebook</a>'\n",
              "            + ' to learn more about interactive tables.';\n",
              "          element.innerHTML = '';\n",
              "          dataTable['output_type'] = 'display_data';\n",
              "          await google.colab.output.renderOutput(dataTable, element);\n",
              "          const docLink = document.createElement('div');\n",
              "          docLink.innerHTML = docLinkHtml;\n",
              "          element.appendChild(docLink);\n",
              "        }\n",
              "      </script>\n",
              "    </div>\n",
              "  </div>\n",
              "  "
            ],
            "text/plain": [
              "      Nota                                             Review  \\\n",
              "0        0  i have get play console honestly say look x be...   \n",
              "1        0  game give series word puzzle figure buy fan sc...   \n",
              "2        1  pretty much already know game reading review b...   \n",
              "3        1  really like game love challenge love different...   \n",
              "4        0  please read update article ps user bad news ma...   \n",
              "...    ...                                                ...   \n",
              "7995     0  arrive mail promptly work great far download d...   \n",
              "7996     0  game perfect example style substance good grap...   \n",
              "7997     1  let tell start big yu gi oh fan collect card m...   \n",
              "7998     1  new game deliver buy game solely web swing aro...   \n",
              "7999     1  fun game graphic sound spot gameplay smooth ga...   \n",
              "\n",
              "                                            Tokenização  \n",
              "0     [i, have, get, play, console, honestly, say, l...  \n",
              "1     [game, give, series, word, puzzle, figure, buy...  \n",
              "2     [pretty, much, already, know, game, reading, r...  \n",
              "3     [really, like, game, love, challenge, love, di...  \n",
              "4     [please, read, update, article, ps, user, bad,...  \n",
              "...                                                 ...  \n",
              "7995  [arrive, mail, promptly, work, great, far, dow...  \n",
              "7996  [game, perfect, example, style, substance, goo...  \n",
              "7997  [let, tell, start, big, yu, gi, oh, fan, colle...  \n",
              "7998  [new, game, deliver, buy, game, solely, web, s...  \n",
              "7999  [fun, game, graphic, sound, spot, gameplay, sm...  \n",
              "\n",
              "[7999 rows x 3 columns]"
            ]
          },
          "metadata": {},
          "execution_count": 20
        }
      ]
    },
    {
      "cell_type": "markdown",
      "source": [
        "##Análise do corpus\n",
        "\n",
        "Olharei somente as reviews do dataframe `df_train`."
      ],
      "metadata": {
        "id": "bcL_kIH4Bh80"
      }
    },
    {
      "cell_type": "markdown",
      "source": [
        "###Frequência de termos"
      ],
      "metadata": {
        "id": "0b43G_mxCMwM"
      }
    },
    {
      "cell_type": "code",
      "source": [
        "# Juntarei todas as palavras numa lista só para poder fazer a manipulação.\n",
        "list_of_lists = df_train[\"Tokenização\"]\n",
        "list_geral = []\n",
        "for l in list_of_lists:\n",
        "    for element in l:\n",
        "        list_geral.append(element)\n",
        "\n",
        "len(list_geral) # quantidade de palavras"
      ],
      "metadata": {
        "colab": {
          "base_uri": "https://localhost:8080/"
        },
        "id": "zTWtw4sJJTH1",
        "outputId": "1262a075-760a-43a3-b928-e840070ca571"
      },
      "execution_count": 21,
      "outputs": [
        {
          "output_type": "execute_result",
          "data": {
            "text/plain": [
              "886360"
            ]
          },
          "metadata": {},
          "execution_count": 21
        }
      ]
    },
    {
      "cell_type": "code",
      "source": [
        "# Ranking de palavras mais comuns \n",
        "from nltk.probability import FreqDist\n",
        "from nltk.tokenize import word_tokenize\n",
        "nltk.download('punkt')\n",
        "\n",
        "fd = FreqDist(list_geral)"
      ],
      "metadata": {
        "colab": {
          "base_uri": "https://localhost:8080/"
        },
        "id": "taAdQ1mqCRE8",
        "outputId": "9b6b49b1-0b40-4c5e-b48a-28a5f162780e"
      },
      "execution_count": 22,
      "outputs": [
        {
          "output_type": "stream",
          "name": "stdout",
          "text": [
            "[nltk_data] Downloading package punkt to /root/nltk_data...\n",
            "[nltk_data]   Package punkt is already up-to-date!\n"
          ]
        }
      ]
    },
    {
      "cell_type": "code",
      "source": [
        "plt.figure(figsize = (13, 8))\n",
        "fd.plot(30, title = \"Frequência de Palavras\")"
      ],
      "metadata": {
        "colab": {
          "base_uri": "https://localhost:8080/",
          "height": 551
        },
        "id": "BPL8gxCGKFPG",
        "outputId": "04a11fcc-232f-4f50-84f0-99a8dadf1283"
      },
      "execution_count": 23,
      "outputs": [
        {
          "output_type": "display_data",
          "data": {
            "image/png": "[encoded data removed]",
            "text/plain": [
              "<Figure size 936x576 with 1 Axes>"
            ]
          },
          "metadata": {
            "needs_background": "light"
          }
        }
      ]
    },
    {
      "cell_type": "markdown",
      "source": [
        "A palavra \"game\" aparece com muita frequência, o que é compreensível pois são reviews de jogos. Talvez o mais indicado seria adicionar essa palavra como uma stopword, mas não farei isso nesse projeto."
      ],
      "metadata": {
        "id": "mamDi2aGKZDk"
      }
    },
    {
      "cell_type": "code",
      "source": [
        "# Wordcloud com as palavras mais citadas\n",
        "from wordcloud import WordCloud\n",
        "\n",
        "text = \" \".join(i for i in list_geral)\n",
        "wordcloud = WordCloud(background_color='black', width=1000, height=500).generate(text)\n",
        "plt.imshow(wordcloud, interpolation=\"bilinear\")\n",
        "plt.axis(\"off\")\n",
        "plt.show()"
      ],
      "metadata": {
        "colab": {
          "base_uri": "https://localhost:8080/",
          "height": 197
        },
        "id": "9qWHvapc81Os",
        "outputId": "422c024d-8056-4dc6-c485-5b2333008fc4"
      },
      "execution_count": 24,
      "outputs": [
        {
          "output_type": "display_data",
          "data": {
            "image/png": "[encoded data removed]",
            "text/plain": [
              "<Figure size 432x288 with 1 Axes>"
            ]
          },
          "metadata": {
            "needs_background": "light"
          }
        }
      ]
    },
    {
      "cell_type": "markdown",
      "source": [
        "####N-gramas\n",
        "\n",
        "Vendo a frequência das palavras agora em conjunto, tanto em bigramas quanto em trigramas."
      ],
      "metadata": {
        "id": "DVGM5c3_PMer"
      }
    },
    {
      "cell_type": "code",
      "source": [
        "from nltk.util import ngrams"
      ],
      "metadata": {
        "id": "1dIxuZ1FrXXI"
      },
      "execution_count": 25,
      "outputs": []
    },
    {
      "cell_type": "code",
      "source": [
        "# bigramas\n",
        "from nltk import bigrams\n",
        "\n",
        "bigrams = list(bigrams(list_geral))\n",
        "bigrams[:10]"
      ],
      "metadata": {
        "colab": {
          "base_uri": "https://localhost:8080/"
        },
        "id": "bwJQ-anaPLes",
        "outputId": "208c3761-5fc0-4749-aece-f6baf424bb3d"
      },
      "execution_count": 26,
      "outputs": [
        {
          "output_type": "execute_result",
          "data": {
            "text/plain": [
              "[('i', 'have'),\n",
              " ('have', 'get'),\n",
              " ('get', 'play'),\n",
              " ('play', 'console'),\n",
              " ('console', 'honestly'),\n",
              " ('honestly', 'say'),\n",
              " ('say', 'look'),\n",
              " ('look', 'x'),\n",
              " ('x', 'better'),\n",
              " ('better', 'ps')]"
            ]
          },
          "metadata": {},
          "execution_count": 26
        }
      ]
    },
    {
      "cell_type": "code",
      "source": [
        "import collections\n",
        "\n",
        "# bigramas mais frequentes\n",
        "bigram_counts = collections.Counter(bigrams)\n",
        "bifreq = bigram_counts.most_common(10)\n",
        "bigram_df = pd.DataFrame(bifreq, columns=['Bigrama', 'Frequência'])\n",
        "\n",
        "bigram_df"
      ],
      "metadata": {
        "colab": {
          "base_uri": "https://localhost:8080/",
          "height": 363
        },
        "id": "zGljA6Hrp89K",
        "outputId": "5d5e1234-e63d-4b7b-f4ca-0723dbc2d8aa"
      },
      "execution_count": 27,
      "outputs": [
        {
          "output_type": "execute_result",
          "data": {
            "text/html": [
              "\n",
              "  <div id=\"df-5d88ab98-650f-4187-b022-b3b09f269ae5\">\n",
              "    <div class=\"colab-df-container\">\n",
              "      <div>\n",
              "<style scoped>\n",
              "    .dataframe tbody tr th:only-of-type {\n",
              "        vertical-align: middle;\n",
              "    }\n",
              "\n",
              "    .dataframe tbody tr th {\n",
              "        vertical-align: top;\n",
              "    }\n",
              "\n",
              "    .dataframe thead th {\n",
              "        text-align: right;\n",
              "    }\n",
              "</style>\n",
              "<table border=\"1\" class=\"dataframe\">\n",
              "  <thead>\n",
              "    <tr style=\"text-align: right;\">\n",
              "      <th></th>\n",
              "      <th>Bigrama</th>\n",
              "      <th>Frequência</th>\n",
              "    </tr>\n",
              "  </thead>\n",
              "  <tbody>\n",
              "    <tr>\n",
              "      <th>0</th>\n",
              "      <td>(game, play)</td>\n",
              "      <td>1191</td>\n",
              "    </tr>\n",
              "    <tr>\n",
              "      <th>1</th>\n",
              "      <td>(play, game)</td>\n",
              "      <td>1155</td>\n",
              "    </tr>\n",
              "    <tr>\n",
              "      <th>2</th>\n",
              "      <td>(feel, like)</td>\n",
              "      <td>809</td>\n",
              "    </tr>\n",
              "    <tr>\n",
              "      <th>3</th>\n",
              "      <td>(game, like)</td>\n",
              "      <td>641</td>\n",
              "    </tr>\n",
              "    <tr>\n",
              "      <th>4</th>\n",
              "      <td>(can, not)</td>\n",
              "      <td>609</td>\n",
              "    </tr>\n",
              "    <tr>\n",
              "      <th>5</th>\n",
              "      <td>(good, game)</td>\n",
              "      <td>578</td>\n",
              "    </tr>\n",
              "    <tr>\n",
              "      <th>6</th>\n",
              "      <td>(buy, game)</td>\n",
              "      <td>574</td>\n",
              "    </tr>\n",
              "    <tr>\n",
              "      <th>7</th>\n",
              "      <td>(video, game)</td>\n",
              "      <td>541</td>\n",
              "    </tr>\n",
              "    <tr>\n",
              "      <th>8</th>\n",
              "      <td>(great, game)</td>\n",
              "      <td>533</td>\n",
              "    </tr>\n",
              "    <tr>\n",
              "      <th>9</th>\n",
              "      <td>(single, player)</td>\n",
              "      <td>532</td>\n",
              "    </tr>\n",
              "  </tbody>\n",
              "</table>\n",
              "</div>\n",
              "      <button class=\"colab-df-convert\" onclick=\"convertToInteractive('df-5d88ab98-650f-4187-b022-b3b09f269ae5')\"\n",
              "              title=\"Convert this dataframe to an interactive table.\"\n",
              "              style=\"display:none;\">\n",
              "        \n",
              "  <svg xmlns=\"http://www.w3.org/2000/svg\" height=\"24px\"viewBox=\"0 0 24 24\"\n",
              "       width=\"24px\">\n",
              "    <path d=\"M0 0h24v24H0V0z\" fill=\"none\"/>\n",
              "    <path d=\"M18.56 5.44l.94 2.06.94-2.06 2.06-.94-2.06-.94-.94-2.06-.94 2.06-2.06.94zm-11 1L8.5 8.5l.94-2.06 2.06-.94-2.06-.94L8.5 2.5l-.94 2.06-2.06.94zm10 10l.94 2.06.94-2.06 2.06-.94-2.06-.94-.94-2.06-.94 2.06-2.06.94z\"/><path d=\"M17.41 7.96l-1.37-1.37c-.4-.4-.92-.59-1.43-.59-.52 0-1.04.2-1.43.59L10.3 9.45l-7.72 7.72c-.78.78-.78 2.05 0 2.83L4 21.41c.39.39.9.59 1.41.59.51 0 1.02-.2 1.41-.59l7.78-7.78 2.81-2.81c.8-.78.8-2.07 0-2.86zM5.41 20L4 18.59l7.72-7.72 1.47 1.35L5.41 20z\"/>\n",
              "  </svg>\n",
              "      </button>\n",
              "      \n",
              "  <style>\n",
              "    .colab-df-container {\n",
              "      display:flex;\n",
              "      flex-wrap:wrap;\n",
              "      gap: 12px;\n",
              "    }\n",
              "\n",
              "    .colab-df-convert {\n",
              "      background-color: #E8F0FE;\n",
              "      border: none;\n",
              "      border-radius: 50%;\n",
              "      cursor: pointer;\n",
              "      display: none;\n",
              "      fill: #1967D2;\n",
              "      height: 32px;\n",
              "      padding: 0 0 0 0;\n",
              "      width: 32px;\n",
              "    }\n",
              "\n",
              "    .colab-df-convert:hover {\n",
              "      background-color: #E2EBFA;\n",
              "      box-shadow: 0px 1px 2px rgba(60, 64, 67, 0.3), 0px 1px 3px 1px rgba(60, 64, 67, 0.15);\n",
              "      fill: #174EA6;\n",
              "    }\n",
              "\n",
              "    [theme=dark] .colab-df-convert {\n",
              "      background-color: #3B4455;\n",
              "      fill: #D2E3FC;\n",
              "    }\n",
              "\n",
              "    [theme=dark] .colab-df-convert:hover {\n",
              "      background-color: #434B5C;\n",
              "      box-shadow: 0px 1px 3px 1px rgba(0, 0, 0, 0.15);\n",
              "      filter: drop-shadow(0px 1px 2px rgba(0, 0, 0, 0.3));\n",
              "      fill: #FFFFFF;\n",
              "    }\n",
              "  </style>\n",
              "\n",
              "      <script>\n",
              "        const buttonEl =\n",
              "          document.querySelector('#df-5d88ab98-650f-4187-b022-b3b09f269ae5 button.colab-df-convert');\n",
              "        buttonEl.style.display =\n",
              "          google.colab.kernel.accessAllowed ? 'block' : 'none';\n",
              "\n",
              "        async function convertToInteractive(key) {\n",
              "          const element = document.querySelector('#df-5d88ab98-650f-4187-b022-b3b09f269ae5');\n",
              "          const dataTable =\n",
              "            await google.colab.kernel.invokeFunction('convertToInteractive',\n",
              "                                                     [key], {});\n",
              "          if (!dataTable) return;\n",
              "\n",
              "          const docLinkHtml = 'Like what you see? Visit the ' +\n",
              "            '<a target=\"_blank\" href=https://colab.research.google.com/notebooks/data_table.ipynb>data table notebook</a>'\n",
              "            + ' to learn more about interactive tables.';\n",
              "          element.innerHTML = '';\n",
              "          dataTable['output_type'] = 'display_data';\n",
              "          await google.colab.output.renderOutput(dataTable, element);\n",
              "          const docLink = document.createElement('div');\n",
              "          docLink.innerHTML = docLinkHtml;\n",
              "          element.appendChild(docLink);\n",
              "        }\n",
              "      </script>\n",
              "    </div>\n",
              "  </div>\n",
              "  "
            ],
            "text/plain": [
              "            Bigrama  Frequência\n",
              "0      (game, play)        1191\n",
              "1      (play, game)        1155\n",
              "2      (feel, like)         809\n",
              "3      (game, like)         641\n",
              "4        (can, not)         609\n",
              "5      (good, game)         578\n",
              "6       (buy, game)         574\n",
              "7     (video, game)         541\n",
              "8     (great, game)         533\n",
              "9  (single, player)         532"
            ]
          },
          "metadata": {},
          "execution_count": 27
        }
      ]
    },
    {
      "cell_type": "code",
      "source": [
        "# trigramas\n",
        "from nltk import trigrams\n",
        "\n",
        "trigrams = list(trigrams(list_geral))\n",
        "trigrams[:10]"
      ],
      "metadata": {
        "colab": {
          "base_uri": "https://localhost:8080/"
        },
        "id": "1Y0L0f_ypeca",
        "outputId": "d2bc28e7-3798-4c7f-df76-371e780deaee"
      },
      "execution_count": 28,
      "outputs": [
        {
          "output_type": "execute_result",
          "data": {
            "text/plain": [
              "[('i', 'have', 'get'),\n",
              " ('have', 'get', 'play'),\n",
              " ('get', 'play', 'console'),\n",
              " ('play', 'console', 'honestly'),\n",
              " ('console', 'honestly', 'say'),\n",
              " ('honestly', 'say', 'look'),\n",
              " ('say', 'look', 'x'),\n",
              " ('look', 'x', 'better'),\n",
              " ('x', 'better', 'ps'),\n",
              " ('better', 'ps', 'maybe')]"
            ]
          },
          "metadata": {},
          "execution_count": 28
        }
      ]
    },
    {
      "cell_type": "code",
      "source": [
        "# trigramas mais frequentes\n",
        "trigram_counts = collections.Counter(trigrams)\n",
        "trifreq = trigram_counts.most_common(10)\n",
        "trigram_df = pd.DataFrame(trifreq, columns=['Trigrama', 'Frequência'])\n",
        "\n",
        "trigram_df"
      ],
      "metadata": {
        "colab": {
          "base_uri": "https://localhost:8080/",
          "height": 363
        },
        "id": "W47-1RLIpyBm",
        "outputId": "d4f36a5e-f7a0-4ef4-d80d-22ef61f27348"
      },
      "execution_count": 29,
      "outputs": [
        {
          "output_type": "execute_result",
          "data": {
            "text/html": [
              "\n",
              "  <div id=\"df-03dbcb66-0e5d-4850-a0a0-24530dfc343e\">\n",
              "    <div class=\"colab-df-container\">\n",
              "      <div>\n",
              "<style scoped>\n",
              "    .dataframe tbody tr th:only-of-type {\n",
              "        vertical-align: middle;\n",
              "    }\n",
              "\n",
              "    .dataframe tbody tr th {\n",
              "        vertical-align: top;\n",
              "    }\n",
              "\n",
              "    .dataframe thead th {\n",
              "        text-align: right;\n",
              "    }\n",
              "</style>\n",
              "<table border=\"1\" class=\"dataframe\">\n",
              "  <thead>\n",
              "    <tr style=\"text-align: right;\">\n",
              "      <th></th>\n",
              "      <th>Trigrama</th>\n",
              "      <th>Frequência</th>\n",
              "    </tr>\n",
              "  </thead>\n",
              "  <tbody>\n",
              "    <tr>\n",
              "      <th>0</th>\n",
              "      <td>(first, person, shooter)</td>\n",
              "      <td>154</td>\n",
              "    </tr>\n",
              "    <tr>\n",
              "      <th>1</th>\n",
              "      <td>(game, ever, play)</td>\n",
              "      <td>111</td>\n",
              "    </tr>\n",
              "    <tr>\n",
              "      <th>2</th>\n",
              "      <td>(single, player, game)</td>\n",
              "      <td>90</td>\n",
              "    </tr>\n",
              "    <tr>\n",
              "      <th>3</th>\n",
              "      <td>(game, feel, like)</td>\n",
              "      <td>80</td>\n",
              "    </tr>\n",
              "    <tr>\n",
              "      <th>4</th>\n",
              "      <td>(grand, theft, auto)</td>\n",
              "      <td>77</td>\n",
              "    </tr>\n",
              "    <tr>\n",
              "      <th>5</th>\n",
              "      <td>(single, player, campaign)</td>\n",
              "      <td>75</td>\n",
              "    </tr>\n",
              "    <tr>\n",
              "      <th>6</th>\n",
              "      <td>(metal, gear, solid)</td>\n",
              "      <td>64</td>\n",
              "    </tr>\n",
              "    <tr>\n",
              "      <th>7</th>\n",
              "      <td>(single, player, mode)</td>\n",
              "      <td>58</td>\n",
              "    </tr>\n",
              "    <tr>\n",
              "      <th>8</th>\n",
              "      <td>(one, good, game)</td>\n",
              "      <td>57</td>\n",
              "    </tr>\n",
              "    <tr>\n",
              "      <th>9</th>\n",
              "      <td>(play, single, player)</td>\n",
              "      <td>55</td>\n",
              "    </tr>\n",
              "  </tbody>\n",
              "</table>\n",
              "</div>\n",
              "      <button class=\"colab-df-convert\" onclick=\"convertToInteractive('df-03dbcb66-0e5d-4850-a0a0-24530dfc343e')\"\n",
              "              title=\"Convert this dataframe to an interactive table.\"\n",
              "              style=\"display:none;\">\n",
              "        \n",
              "  <svg xmlns=\"http://www.w3.org/2000/svg\" height=\"24px\"viewBox=\"0 0 24 24\"\n",
              "       width=\"24px\">\n",
              "    <path d=\"M0 0h24v24H0V0z\" fill=\"none\"/>\n",
              "    <path d=\"M18.56 5.44l.94 2.06.94-2.06 2.06-.94-2.06-.94-.94-2.06-.94 2.06-2.06.94zm-11 1L8.5 8.5l.94-2.06 2.06-.94-2.06-.94L8.5 2.5l-.94 2.06-2.06.94zm10 10l.94 2.06.94-2.06 2.06-.94-2.06-.94-.94-2.06-.94 2.06-2.06.94z\"/><path d=\"M17.41 7.96l-1.37-1.37c-.4-.4-.92-.59-1.43-.59-.52 0-1.04.2-1.43.59L10.3 9.45l-7.72 7.72c-.78.78-.78 2.05 0 2.83L4 21.41c.39.39.9.59 1.41.59.51 0 1.02-.2 1.41-.59l7.78-7.78 2.81-2.81c.8-.78.8-2.07 0-2.86zM5.41 20L4 18.59l7.72-7.72 1.47 1.35L5.41 20z\"/>\n",
              "  </svg>\n",
              "      </button>\n",
              "      \n",
              "  <style>\n",
              "    .colab-df-container {\n",
              "      display:flex;\n",
              "      flex-wrap:wrap;\n",
              "      gap: 12px;\n",
              "    }\n",
              "\n",
              "    .colab-df-convert {\n",
              "      background-color: #E8F0FE;\n",
              "      border: none;\n",
              "      border-radius: 50%;\n",
              "      cursor: pointer;\n",
              "      display: none;\n",
              "      fill: #1967D2;\n",
              "      height: 32px;\n",
              "      padding: 0 0 0 0;\n",
              "      width: 32px;\n",
              "    }\n",
              "\n",
              "    .colab-df-convert:hover {\n",
              "      background-color: #E2EBFA;\n",
              "      box-shadow: 0px 1px 2px rgba(60, 64, 67, 0.3), 0px 1px 3px 1px rgba(60, 64, 67, 0.15);\n",
              "      fill: #174EA6;\n",
              "    }\n",
              "\n",
              "    [theme=dark] .colab-df-convert {\n",
              "      background-color: #3B4455;\n",
              "      fill: #D2E3FC;\n",
              "    }\n",
              "\n",
              "    [theme=dark] .colab-df-convert:hover {\n",
              "      background-color: #434B5C;\n",
              "      box-shadow: 0px 1px 3px 1px rgba(0, 0, 0, 0.15);\n",
              "      filter: drop-shadow(0px 1px 2px rgba(0, 0, 0, 0.3));\n",
              "      fill: #FFFFFF;\n",
              "    }\n",
              "  </style>\n",
              "\n",
              "      <script>\n",
              "        const buttonEl =\n",
              "          document.querySelector('#df-03dbcb66-0e5d-4850-a0a0-24530dfc343e button.colab-df-convert');\n",
              "        buttonEl.style.display =\n",
              "          google.colab.kernel.accessAllowed ? 'block' : 'none';\n",
              "\n",
              "        async function convertToInteractive(key) {\n",
              "          const element = document.querySelector('#df-03dbcb66-0e5d-4850-a0a0-24530dfc343e');\n",
              "          const dataTable =\n",
              "            await google.colab.kernel.invokeFunction('convertToInteractive',\n",
              "                                                     [key], {});\n",
              "          if (!dataTable) return;\n",
              "\n",
              "          const docLinkHtml = 'Like what you see? Visit the ' +\n",
              "            '<a target=\"_blank\" href=https://colab.research.google.com/notebooks/data_table.ipynb>data table notebook</a>'\n",
              "            + ' to learn more about interactive tables.';\n",
              "          element.innerHTML = '';\n",
              "          dataTable['output_type'] = 'display_data';\n",
              "          await google.colab.output.renderOutput(dataTable, element);\n",
              "          const docLink = document.createElement('div');\n",
              "          docLink.innerHTML = docLinkHtml;\n",
              "          element.appendChild(docLink);\n",
              "        }\n",
              "      </script>\n",
              "    </div>\n",
              "  </div>\n",
              "  "
            ],
            "text/plain": [
              "                     Trigrama  Frequência\n",
              "0    (first, person, shooter)         154\n",
              "1          (game, ever, play)         111\n",
              "2      (single, player, game)          90\n",
              "3          (game, feel, like)          80\n",
              "4        (grand, theft, auto)          77\n",
              "5  (single, player, campaign)          75\n",
              "6        (metal, gear, solid)          64\n",
              "7      (single, player, mode)          58\n",
              "8           (one, good, game)          57\n",
              "9      (play, single, player)          55"
            ]
          },
          "metadata": {},
          "execution_count": 29
        }
      ]
    },
    {
      "cell_type": "markdown",
      "source": [
        "###Tamanho das reviews"
      ],
      "metadata": {
        "id": "vziks47TBB5M"
      }
    },
    {
      "cell_type": "code",
      "source": [
        "review_size = df_train['Review'].apply(len)\n",
        "\n",
        "plt.figure(figsize=(10,10))\n",
        "sns.stripplot(y = review_size)\n",
        "sns.set_theme(style='darkgrid')\n",
        "plt.title('Tamanho das Reviews')\n",
        "plt.xlabel('Nota')\n",
        "plt.show()"
      ],
      "metadata": {
        "colab": {
          "base_uri": "https://localhost:8080/",
          "height": 612
        },
        "id": "-uFirr2NBIU-",
        "outputId": "86577b6b-07bb-479e-d76a-33f4295571cf"
      },
      "execution_count": 30,
      "outputs": [
        {
          "output_type": "display_data",
          "data": {
            "image/png": "[encoded data removed]",
            "text/plain": [
              "<Figure size 720x720 with 1 Axes>"
            ]
          },
          "metadata": {
            "needs_background": "light"
          }
        }
      ]
    },
    {
      "cell_type": "code",
      "source": [
        "plt.figure(figsize=(10,8))\n",
        "sns.boxplot(y = review_size)\n",
        "plt.title(\"Boxplot do tamanho do texto\")\n",
        "plt.show()"
      ],
      "metadata": {
        "colab": {
          "base_uri": "https://localhost:8080/",
          "height": 482
        },
        "id": "3C-UGgzHC2qx",
        "outputId": "36938b32-c066-4e6d-eba7-90110262d8c2"
      },
      "execution_count": 31,
      "outputs": [
        {
          "output_type": "display_data",
          "data": {
            "image/png": "[encoded data removed]",
            "text/plain": [
              "<Figure size 720x576 with 1 Axes>"
            ]
          },
          "metadata": {}
        }
      ]
    },
    {
      "cell_type": "markdown",
      "source": [
        "Maioria das reviews tem por volta de 2500 caracteres, mas claro que sempre tem alguém para fazer um textão. "
      ],
      "metadata": {
        "id": "TXzC8salCpV5"
      }
    },
    {
      "cell_type": "markdown",
      "source": [
        "### Análise das notas\n",
        "\n",
        "Um bom modo de analisar o sentimento das pessoas é ver as notas que elas atribuem aos produtos."
      ],
      "metadata": {
        "id": "R94Dcty1Eaac"
      }
    },
    {
      "cell_type": "code",
      "source": [
        "Review_Nota = pd.DataFrame()\n",
        "Review_Nota['Nota'] = df_train['Nota']"
      ],
      "metadata": {
        "id": "DdI5BXL7Eh5T"
      },
      "execution_count": 32,
      "outputs": []
    },
    {
      "cell_type": "code",
      "source": [
        "plt.figure(figsize=(10,8))\n",
        "sns.countplot(x=Review_Nota['Nota'])\n",
        "sns.set_theme(style='darkgrid')\n",
        "plt.title('Análise das Notas')\n",
        "plt.xlabel('0 = Negativo / 1 = Positivo')\n",
        "plt.ylabel('Número de ocorrência')\n",
        "plt.show()"
      ],
      "metadata": {
        "colab": {
          "base_uri": "https://localhost:8080/",
          "height": 517
        },
        "id": "JFnk72quEzlo",
        "outputId": "665f5efa-d4ab-4c3d-e811-f783ce880714"
      },
      "execution_count": 33,
      "outputs": [
        {
          "output_type": "display_data",
          "data": {
            "image/png": "[encoded data removed]",
            "text/plain": [
              "<Figure size 720x576 with 1 Axes>"
            ]
          },
          "metadata": {}
        }
      ]
    },
    {
      "cell_type": "markdown",
      "source": [
        "Há mais reviews com notas negativas (1, 2 ou 3) do que positivas (4 e 5)."
      ],
      "metadata": {
        "id": "Tdmc1jiEFesb"
      }
    },
    {
      "cell_type": "markdown",
      "source": [
        "###Classes gramaticais\n",
        "\n",
        "Podemos verificar quais as maiores ocorrências de classes gramaticais nas reviews."
      ],
      "metadata": {
        "id": "ateXujKDTpTn"
      }
    },
    {
      "cell_type": "code",
      "source": [
        "nltk.download('averaged_perceptron_tagger')\n",
        "\n",
        "classe = nltk.pos_tag(list_geral)"
      ],
      "metadata": {
        "colab": {
          "base_uri": "https://localhost:8080/"
        },
        "id": "6PQ-WAqbVuFg",
        "outputId": "03c24cad-d5ec-4c58-aa45-9d3f0490770b"
      },
      "execution_count": 34,
      "outputs": [
        {
          "output_type": "stream",
          "name": "stdout",
          "text": [
            "[nltk_data] Downloading package averaged_perceptron_tagger to\n",
            "[nltk_data]     /root/nltk_data...\n",
            "[nltk_data]   Unzipping taggers/averaged_perceptron_tagger.zip.\n"
          ]
        }
      ]
    },
    {
      "cell_type": "code",
      "source": [
        "b = [] # lista que conterá as classes gramaticais\n",
        "def classes(a, b): # função que fornecerá um dicionário\n",
        "  for c in range(len(a)):\n",
        "    b.append(a[c][1]) # adiciona o segundo elemento da lista 'classe'.\n",
        "\n",
        "classes(classe, b)\n",
        "\n",
        "num_clas = Counter(b) # numero de ocorrência das classes gramaticais"
      ],
      "metadata": {
        "id": "WSSnUYpcWXD0"
      },
      "execution_count": 35,
      "outputs": []
    },
    {
      "cell_type": "code",
      "source": [
        "plt.figure(figsize = (18,9)) \n",
        "plt.bar(num_clas.keys(), num_clas.values(), color = 'violet')\n",
        "plt.title('Gráfico com as classes gramaticais', fontsize = 16)\n",
        "plt.xlabel('Classes gramaticais')\n",
        "plt.show()"
      ],
      "metadata": {
        "colab": {
          "base_uri": "https://localhost:8080/",
          "height": 575
        },
        "id": "hjRL7ZQsYjp7",
        "outputId": "9720fe72-98dd-4b60-9a1f-705423db4052"
      },
      "execution_count": 36,
      "outputs": [
        {
          "output_type": "display_data",
          "data": {
            "image/png": "[encoded data removed]",
            "text/plain": [
              "<Figure size 1296x648 with 1 Axes>"
            ]
          },
          "metadata": {}
        }
      ]
    },
    {
      "cell_type": "code",
      "source": [
        "num_clas.most_common(6)"
      ],
      "metadata": {
        "colab": {
          "base_uri": "https://localhost:8080/"
        },
        "id": "txovF3o5ZRRy",
        "outputId": "2665456e-a417-4cfe-96f1-755b39100287"
      },
      "execution_count": 37,
      "outputs": [
        {
          "output_type": "execute_result",
          "data": {
            "text/plain": [
              "[('NN', 410088),\n",
              " ('JJ', 191051),\n",
              " ('RB', 83673),\n",
              " ('VBP', 54322),\n",
              " ('VB', 46209),\n",
              " ('IN', 24480)]"
            ]
          },
          "metadata": {},
          "execution_count": 37
        }
      ]
    },
    {
      "cell_type": "markdown",
      "source": [
        "No gráfico dá para ver as classes gramaticais presentes e sua distribuição, tendo algumas se destacado. Segue as 6 mais presentes nas reviews:\n",
        "\n",
        "NN = Substantivo\n",
        "\n",
        "JJ = Adjetivo ou numeral\n",
        "\n",
        "RB = Advérbio\n",
        "\n",
        "VBP = Verbo no tempo presente e sem ser na terceira pessoa do singular\n",
        "\n",
        "VB = Verbo\n",
        "\n",
        "IN = Preposição ou conjunção "
      ],
      "metadata": {
        "id": "J0ofMnRaacCC"
      }
    },
    {
      "cell_type": "markdown",
      "source": [
        "##Modelagem\n",
        "\n",
        "Para trabalhar com as reviews, será necessário transformá-las em features e, para fazer isso, podemos usar dois métodos: **Bag of Words** (BoW) ou **TF-IDF**."
      ],
      "metadata": {
        "id": "-_mo1-vAcTY6"
      }
    },
    {
      "cell_type": "markdown",
      "source": [
        "###Bag of Words\n",
        "\n",
        "Aqui, a ordem das palavras não importa, mas sim o número de ocorrências dessas palavras, ou seja, seu contexto não é capturado."
      ],
      "metadata": {
        "id": "hSL_fltydgPZ"
      }
    },
    {
      "cell_type": "code",
      "source": [
        "# Primeiro, juntarei o dataset de treino, teste e validação.\n",
        "\n",
        "df_teste = pd.merge(df_test, df_dev, how = 'outer')\n",
        "df = pd.merge(df_teste, df_train, how = 'outer')"
      ],
      "metadata": {
        "id": "JyHkXOLriX7Z"
      },
      "execution_count": 85,
      "outputs": []
    },
    {
      "cell_type": "code",
      "source": [
        "# Importando o CountVectorizer\n",
        "from sklearn.feature_extraction.text import CountVectorizer as CV\n",
        "\n",
        "BOWvectorizer = CV(max_features = 3000)"
      ],
      "metadata": {
        "id": "yKrPWcZkd4To"
      },
      "execution_count": 39,
      "outputs": []
    },
    {
      "cell_type": "code",
      "source": [
        "BOWtrain = BOWvectorizer.fit_transform(df_train['Review'])\n",
        "BOWtest = BOWvectorizer.transform(df_teste['Review'])"
      ],
      "metadata": {
        "id": "1bAbJiOTfdYx"
      },
      "execution_count": 40,
      "outputs": []
    },
    {
      "cell_type": "code",
      "source": [
        "print(BOWtrain)"
      ],
      "metadata": {
        "colab": {
          "base_uri": "https://localhost:8080/"
        },
        "id": "AseM7uWlpO3I",
        "outputId": "33fc40fa-42bb-49a3-cc3b-788680c20b40"
      },
      "execution_count": 41,
      "outputs": [
        {
          "output_type": "stream",
          "name": "stdout",
          "text": [
            "  (0, 1192)\t1\n",
            "  (0, 1102)\t1\n",
            "  (0, 1914)\t1\n",
            "  (0, 527)\t1\n",
            "  (0, 1238)\t1\n",
            "  (0, 2245)\t1\n",
            "  (0, 1512)\t1\n",
            "  (0, 252)\t1\n",
            "  (0, 2013)\t2\n",
            "  (0, 1585)\t1\n",
            "  (0, 2979)\t1\n",
            "  (0, 1794)\t1\n",
            "  (0, 1610)\t1\n",
            "  (0, 1400)\t1\n",
            "  (1, 1914)\t1\n",
            "  (1, 1073)\t3\n",
            "  (1, 1111)\t1\n",
            "  (1, 2305)\t1\n",
            "  (1, 2954)\t1\n",
            "  (1, 2029)\t1\n",
            "  (1, 973)\t1\n",
            "  (1, 351)\t1\n",
            "  (1, 937)\t1\n",
            "  (1, 497)\t1\n",
            "  (1, 982)\t1\n",
            "  :\t:\n",
            "  (7998, 75)\t1\n",
            "  (7998, 2479)\t1\n",
            "  (7998, 970)\t1\n",
            "  (7998, 1435)\t2\n",
            "  (7998, 1906)\t1\n",
            "  (7998, 787)\t2\n",
            "  (7998, 2448)\t1\n",
            "  (7998, 1258)\t1\n",
            "  (7998, 2951)\t1\n",
            "  (7998, 226)\t2\n",
            "  (7998, 1762)\t1\n",
            "  (7998, 2499)\t1\n",
            "  (7998, 113)\t1\n",
            "  (7998, 2141)\t1\n",
            "  (7998, 1404)\t1\n",
            "  (7998, 2056)\t1\n",
            "  (7998, 1623)\t1\n",
            "  (7998, 508)\t2\n",
            "  (7998, 1186)\t1\n",
            "  (7998, 2839)\t1\n",
            "  (7998, 2424)\t1\n",
            "  (7998, 1357)\t1\n",
            "  (7998, 565)\t3\n",
            "  (7998, 1201)\t2\n",
            "  (7998, 1780)\t1\n"
          ]
        }
      ]
    },
    {
      "cell_type": "markdown",
      "source": [
        "###TF-IDF\n",
        "\n",
        "TF-IDF é uma medida estatística, que ponderaa a importância de cada palavra dado o quanto ela aparece num documento em específico em relação ao corpus (conjunto de documentos) como um todo."
      ],
      "metadata": {
        "id": "eqpAKPxtoLgG"
      }
    },
    {
      "cell_type": "code",
      "source": [
        "TFIDFvec = TfidfVectorizer(max_features = 3000)"
      ],
      "metadata": {
        "id": "Pp-9RdWooNpP"
      },
      "execution_count": 42,
      "outputs": []
    },
    {
      "cell_type": "code",
      "source": [
        "TFIDFtrain = TFIDFvec.fit_transform(df_train['Review'])\n",
        "TFIDFtest = TFIDFvec.transform(df_teste['Review'])"
      ],
      "metadata": {
        "id": "xiLTuVi5o3vW"
      },
      "execution_count": 43,
      "outputs": []
    },
    {
      "cell_type": "code",
      "source": [
        "print(TFIDFtrain)"
      ],
      "metadata": {
        "colab": {
          "base_uri": "https://localhost:8080/"
        },
        "id": "KY_mSTnTpNc2",
        "outputId": "abdfbacb-a08f-4778-cc5f-d037156cd7be"
      },
      "execution_count": 44,
      "outputs": [
        {
          "output_type": "stream",
          "name": "stdout",
          "text": [
            "  (0, 1400)\t0.23918609004062996\n",
            "  (0, 1610)\t0.3421074805338718\n",
            "  (0, 1794)\t0.13253570269633583\n",
            "  (0, 2979)\t0.25344322363590205\n",
            "  (0, 1585)\t0.259505995778478\n",
            "  (0, 2013)\t0.44983851567132516\n",
            "  (0, 252)\t0.23345741086946054\n",
            "  (0, 1512)\t0.16985128061206087\n",
            "  (0, 2245)\t0.17358922702263532\n",
            "  (0, 1238)\t0.32790111129119415\n",
            "  (0, 527)\t0.2716685793055046\n",
            "  (0, 1914)\t0.11475184577573805\n",
            "  (0, 1102)\t0.11740754875282754\n",
            "  (0, 1192)\t0.39050574853209197\n",
            "  (1, 1061)\t0.1332512462900681\n",
            "  (1, 478)\t0.1568860093811589\n",
            "  (1, 289)\t0.37950215282849353\n",
            "  (1, 1640)\t0.2370375421830785\n",
            "  (1, 2370)\t0.23377313103113614\n",
            "  (1, 1777)\t0.3668928588913669\n",
            "  (1, 982)\t0.24877692039692317\n",
            "  (1, 497)\t0.35641219143225245\n",
            "  (1, 937)\t0.18478341716369612\n",
            "  (1, 351)\t0.14303565272296045\n",
            "  (1, 973)\t0.24693656992075563\n",
            "  :\t:\n",
            "  (7998, 2664)\t0.05458151568533076\n",
            "  (7998, 2345)\t0.07667877138611481\n",
            "  (7998, 2413)\t0.10659413593289567\n",
            "  (7998, 1367)\t0.3427030742916822\n",
            "  (7998, 1562)\t0.12286517664876308\n",
            "  (7998, 765)\t0.09273153049165125\n",
            "  (7998, 1548)\t0.04604414371892756\n",
            "  (7998, 2501)\t0.06477083089621596\n",
            "  (7998, 1120)\t0.0477365760365735\n",
            "  (7998, 1395)\t0.06990181237638265\n",
            "  (7998, 2688)\t0.045004282616609506\n",
            "  (7998, 1822)\t0.07179085591191214\n",
            "  (7998, 1140)\t0.052555798381407066\n",
            "  (7998, 1495)\t0.06252445979223828\n",
            "  (7998, 1077)\t0.06394544268283146\n",
            "  (7998, 987)\t0.052713519813712445\n",
            "  (7998, 696)\t0.06754322727898515\n",
            "  (7998, 2825)\t0.05177298881700501\n",
            "  (7998, 1682)\t0.05024557503445648\n",
            "  (7998, 1061)\t0.09782389332531806\n",
            "  (7998, 982)\t0.09131744580359571\n",
            "  (7998, 1111)\t0.05774470595973201\n",
            "  (7998, 1073)\t0.13363209552341254\n",
            "  (7998, 1794)\t0.04206203782990593\n",
            "  (7998, 1102)\t0.1117827269940861\n"
          ]
        }
      ]
    },
    {
      "cell_type": "markdown",
      "source": [
        "###Aplicação dos modelos"
      ],
      "metadata": {
        "id": "SQScxBcOp9qI"
      }
    },
    {
      "cell_type": "code",
      "source": [
        "# Aqui separamos a target\n",
        "notas_treino = df_train['Nota']\n",
        "notas_teste = df_teste['Nota']"
      ],
      "metadata": {
        "id": "G78-KWJ4sRPf"
      },
      "execution_count": 45,
      "outputs": []
    },
    {
      "cell_type": "code",
      "source": [
        "X_train_BOW = BOWtrain\n",
        "X_train_TFIDF = TFIDFtrain\n",
        "y_train = notas_treino\n",
        "\n",
        "X_test_BOW = BOWtest\n",
        "X_test_TFIDF = TFIDFtest\n",
        "y_test = notas_teste"
      ],
      "metadata": {
        "id": "jIp6z1U9qCrm"
      },
      "execution_count": 46,
      "outputs": []
    },
    {
      "cell_type": "code",
      "source": [
        "# Importando as métricas a serem usadas\n",
        "from sklearn.metrics import accuracy_score, confusion_matrix, classification_report, ConfusionMatrixDisplay"
      ],
      "metadata": {
        "id": "L3mkH0RzvjGn"
      },
      "execution_count": 47,
      "outputs": []
    },
    {
      "cell_type": "markdown",
      "source": [
        "####Logistic Regression"
      ],
      "metadata": {
        "id": "sr2sVZlWvWEu"
      }
    },
    {
      "cell_type": "code",
      "source": [
        "from sklearn.linear_model import LogisticRegression"
      ],
      "metadata": {
        "id": "a77hpCEyvqUp"
      },
      "execution_count": 48,
      "outputs": []
    },
    {
      "cell_type": "code",
      "source": [
        "model = LogisticRegression()\n",
        "model.fit(X_train_TFIDF, y_train)\n",
        "\n",
        "# Função para a análise das métricas\n",
        "def mostra_metricas(y_true, y_pred):\n",
        "  ConfusionMatrixDisplay.from_estimator(model, X_test_TFIDF, y_test)\n",
        "  print(\"\\nAcurácia: \", accuracy_score(y_true, y_pred))\n",
        "  print(\"\\n\",classification_report(y_true, y_pred))\n",
        "  print(\"Matriz de confusão:\")"
      ],
      "metadata": {
        "id": "QLNH4vloxAgW"
      },
      "execution_count": 49,
      "outputs": []
    },
    {
      "cell_type": "markdown",
      "source": [
        "#####Bag of Words"
      ],
      "metadata": {
        "id": "e-1jAzTZvvmF"
      }
    },
    {
      "cell_type": "code",
      "source": [
        "# Instanciando a regressão logistica\n",
        "reglog = LogisticRegression()\n",
        "\n",
        "# Aplicando o modelo\n",
        "reglog.fit(X_train_BOW, y_train)\n",
        "\n",
        "# Predicao\n",
        "y1_reglog_pred = reglog.predict(X_test_BOW)"
      ],
      "metadata": {
        "colab": {
          "base_uri": "https://localhost:8080/"
        },
        "id": "Q8FHqtYSvwDV",
        "outputId": "59c93399-2362-4102-a800-e4a35933718e"
      },
      "execution_count": 50,
      "outputs": [
        {
          "output_type": "stream",
          "name": "stderr",
          "text": [
            "/usr/local/lib/python3.7/dist-packages/sklearn/linear_model/_logistic.py:818: ConvergenceWarning: lbfgs failed to converge (status=1):\n",
            "STOP: TOTAL NO. of ITERATIONS REACHED LIMIT.\n",
            "\n",
            "Increase the number of iterations (max_iter) or scale the data as shown in:\n",
            "    https://scikit-learn.org/stable/modules/preprocessing.html\n",
            "Please also refer to the documentation for alternative solver options:\n",
            "    https://scikit-learn.org/stable/modules/linear_model.html#logistic-regression\n",
            "  extra_warning_msg=_LOGISTIC_SOLVER_CONVERGENCE_MSG,\n"
          ]
        }
      ]
    },
    {
      "cell_type": "code",
      "source": [
        "mostra_metricas(y_test , y1_reglog_pred)"
      ],
      "metadata": {
        "colab": {
          "base_uri": "https://localhost:8080/",
          "height": 524
        },
        "id": "7rHs-KDFxHAe",
        "outputId": "3e65a15f-fe9d-4dc5-babe-d6d7eee589cb"
      },
      "execution_count": 51,
      "outputs": [
        {
          "output_type": "stream",
          "name": "stdout",
          "text": [
            "\n",
            "Acurácia:  0.7657257168259614\n",
            "\n",
            "               precision    recall  f1-score   support\n",
            "\n",
            "           0       0.81      0.80      0.81      2738\n",
            "           1       0.70      0.71      0.70      1761\n",
            "\n",
            "    accuracy                           0.77      4499\n",
            "   macro avg       0.75      0.76      0.76      4499\n",
            "weighted avg       0.77      0.77      0.77      4499\n",
            "\n",
            "Matriz de confusão:\n"
          ]
        },
        {
          "output_type": "display_data",
          "data": {
            "image/png": "[encoded data removed]",
            "text/plain": [
              "<Figure size 432x288 with 2 Axes>"
            ]
          },
          "metadata": {}
        }
      ]
    },
    {
      "cell_type": "markdown",
      "source": [
        "#####TF-IDF"
      ],
      "metadata": {
        "id": "gdiZ8zWexjMO"
      }
    },
    {
      "cell_type": "code",
      "source": [
        "reglog2 = LogisticRegression()\n",
        "\n",
        "reglog2.fit(X_train_TFIDF, y_train)\n",
        "\n",
        "y2_reglog_pred = reglog2.predict(X_test_TFIDF)"
      ],
      "metadata": {
        "id": "nWcWgObNxmHd"
      },
      "execution_count": 52,
      "outputs": []
    },
    {
      "cell_type": "code",
      "source": [
        "mostra_metricas(y_test, y2_reglog_pred)"
      ],
      "metadata": {
        "colab": {
          "base_uri": "https://localhost:8080/",
          "height": 524
        },
        "id": "ChV5p-BN0e7O",
        "outputId": "82f668af-d6ad-4171-8a89-8aaa2fe8ee2b"
      },
      "execution_count": 53,
      "outputs": [
        {
          "output_type": "stream",
          "name": "stdout",
          "text": [
            "\n",
            "Acurácia:  0.7919537675038898\n",
            "\n",
            "               precision    recall  f1-score   support\n",
            "\n",
            "           0       0.81      0.87      0.84      2738\n",
            "           1       0.77      0.67      0.72      1761\n",
            "\n",
            "    accuracy                           0.79      4499\n",
            "   macro avg       0.79      0.77      0.78      4499\n",
            "weighted avg       0.79      0.79      0.79      4499\n",
            "\n",
            "Matriz de confusão:\n"
          ]
        },
        {
          "output_type": "display_data",
          "data": {
            "image/png": "[encoded data removed]",
            "text/plain": [
              "<Figure size 432x288 with 2 Axes>"
            ]
          },
          "metadata": {}
        }
      ]
    },
    {
      "cell_type": "markdown",
      "source": [
        "####Naive Bayes"
      ],
      "metadata": {
        "id": "4HZi1v0M1Hpd"
      }
    },
    {
      "cell_type": "markdown",
      "source": [
        "#####Bag of Words"
      ],
      "metadata": {
        "id": "cT6V7r531KEG"
      }
    },
    {
      "cell_type": "code",
      "source": [
        "from sklearn.naive_bayes import GaussianNB"
      ],
      "metadata": {
        "id": "FGtSVkV62cyU"
      },
      "execution_count": 54,
      "outputs": []
    },
    {
      "cell_type": "code",
      "source": [
        "gnb1 = GaussianNB()\n",
        "\n",
        "gnb1.fit(X_train_BOW.toarray(), y_train)\n",
        "\n",
        "y1_gnb_pred = gnb1.predict(X_test_BOW.toarray())"
      ],
      "metadata": {
        "id": "H3fezN0o4ccz"
      },
      "execution_count": 55,
      "outputs": []
    },
    {
      "cell_type": "code",
      "source": [
        "mostra_metricas(y_test, y1_gnb_pred)"
      ],
      "metadata": {
        "colab": {
          "base_uri": "https://localhost:8080/",
          "height": 524
        },
        "id": "30bNkLEU6zoU",
        "outputId": "7bc8d414-f466-418a-d77c-3e2e861e0d23"
      },
      "execution_count": 56,
      "outputs": [
        {
          "output_type": "stream",
          "name": "stdout",
          "text": [
            "\n",
            "Acurácia:  0.6016892642809514\n",
            "\n",
            "               precision    recall  f1-score   support\n",
            "\n",
            "           0       0.78      0.48      0.59      2738\n",
            "           1       0.49      0.80      0.61      1761\n",
            "\n",
            "    accuracy                           0.60      4499\n",
            "   macro avg       0.64      0.64      0.60      4499\n",
            "weighted avg       0.67      0.60      0.60      4499\n",
            "\n",
            "Matriz de confusão:\n"
          ]
        },
        {
          "output_type": "display_data",
          "data": {
            "image/png": "[encoded data removed]",
            "text/plain": [
              "<Figure size 432x288 with 2 Axes>"
            ]
          },
          "metadata": {}
        }
      ]
    },
    {
      "cell_type": "markdown",
      "source": [
        "#####TF-IDF"
      ],
      "metadata": {
        "id": "dFzQJUaN69Tc"
      }
    },
    {
      "cell_type": "code",
      "source": [
        "gnb2 = GaussianNB()\n",
        "\n",
        "gnb2.fit(X_train_TFIDF.toarray(), y_train)\n",
        "\n",
        "y2_gnb_pred = gnb2.predict(X_test_TFIDF.toarray())"
      ],
      "metadata": {
        "id": "HXiCojw-6-9V"
      },
      "execution_count": 57,
      "outputs": []
    },
    {
      "cell_type": "code",
      "source": [
        "mostra_metricas(y_test, y2_gnb_pred)"
      ],
      "metadata": {
        "colab": {
          "base_uri": "https://localhost:8080/",
          "height": 524
        },
        "id": "g-CI6US18jP0",
        "outputId": "126c8a5d-1e87-4f6d-e5ff-24ddd796fd85"
      },
      "execution_count": 58,
      "outputs": [
        {
          "output_type": "stream",
          "name": "stdout",
          "text": [
            "\n",
            "Acurácia:  0.6810402311624806\n",
            "\n",
            "               precision    recall  f1-score   support\n",
            "\n",
            "           0       0.77      0.68      0.72      2738\n",
            "           1       0.58      0.68      0.63      1761\n",
            "\n",
            "    accuracy                           0.68      4499\n",
            "   macro avg       0.67      0.68      0.67      4499\n",
            "weighted avg       0.69      0.68      0.68      4499\n",
            "\n",
            "Matriz de confusão:\n"
          ]
        },
        {
          "output_type": "display_data",
          "data": {
            "image/png": "[encoded data removed]",
            "text/plain": [
              "<Figure size 432x288 with 2 Axes>"
            ]
          },
          "metadata": {}
        }
      ]
    },
    {
      "cell_type": "markdown",
      "source": [
        "####Árvore de decisão"
      ],
      "metadata": {
        "id": "xJ8B2yQg-Gus"
      }
    },
    {
      "cell_type": "markdown",
      "source": [
        "#####Bag of Words"
      ],
      "metadata": {
        "id": "CiKlKtcd-IIj"
      }
    },
    {
      "cell_type": "code",
      "source": [
        "from sklearn.tree import DecisionTreeClassifier"
      ],
      "metadata": {
        "id": "DEP6XyGu-MWr"
      },
      "execution_count": 59,
      "outputs": []
    },
    {
      "cell_type": "code",
      "source": [
        "model = DecisionTreeClassifier()\n",
        "\n",
        "model.fit(X_train_BOW, y_train)\n",
        "\n",
        "y_pred_bow = model.predict(X_test_BOW)"
      ],
      "metadata": {
        "id": "AurVg6ir-QOr"
      },
      "execution_count": 60,
      "outputs": []
    },
    {
      "cell_type": "code",
      "source": [
        "mostra_metricas(y_test, y_pred_bow)"
      ],
      "metadata": {
        "colab": {
          "base_uri": "https://localhost:8080/",
          "height": 524
        },
        "id": "k46koOlNCdZr",
        "outputId": "827c4543-6742-4a0a-bc33-7a29fbcfd576"
      },
      "execution_count": 61,
      "outputs": [
        {
          "output_type": "stream",
          "name": "stdout",
          "text": [
            "\n",
            "Acurácia:  0.6365859079795511\n",
            "\n",
            "               precision    recall  f1-score   support\n",
            "\n",
            "           0       0.71      0.69      0.70      2738\n",
            "           1       0.53      0.55      0.54      1761\n",
            "\n",
            "    accuracy                           0.64      4499\n",
            "   macro avg       0.62      0.62      0.62      4499\n",
            "weighted avg       0.64      0.64      0.64      4499\n",
            "\n",
            "Matriz de confusão:\n"
          ]
        },
        {
          "output_type": "display_data",
          "data": {
            "image/png": "[encoded data removed]",
            "text/plain": [
              "<Figure size 432x288 with 2 Axes>"
            ]
          },
          "metadata": {}
        }
      ]
    },
    {
      "cell_type": "markdown",
      "source": [
        "#####TF-IDF"
      ],
      "metadata": {
        "id": "zcHkZFKeCxJi"
      }
    },
    {
      "cell_type": "code",
      "source": [
        "model = DecisionTreeClassifier()\n",
        "\n",
        "model.fit(X_train_TFIDF, y_train)\n",
        "\n",
        "y_pred_tfidf = model.predict(X_test_TFIDF)"
      ],
      "metadata": {
        "id": "XHxsV5J4CxiK"
      },
      "execution_count": 62,
      "outputs": []
    },
    {
      "cell_type": "code",
      "source": [
        "mostra_metricas(y_test, y_pred_tfidf)"
      ],
      "metadata": {
        "colab": {
          "base_uri": "https://localhost:8080/",
          "height": 524
        },
        "id": "PsdAJJVSDCZS",
        "outputId": "130137ea-5f0b-4cd8-d5ed-70c26a99fc62"
      },
      "execution_count": 63,
      "outputs": [
        {
          "output_type": "stream",
          "name": "stdout",
          "text": [
            "\n",
            "Acurácia:  0.644809957768393\n",
            "\n",
            "               precision    recall  f1-score   support\n",
            "\n",
            "           0       0.72      0.69      0.70      2738\n",
            "           1       0.54      0.57      0.56      1761\n",
            "\n",
            "    accuracy                           0.64      4499\n",
            "   macro avg       0.63      0.63      0.63      4499\n",
            "weighted avg       0.65      0.64      0.65      4499\n",
            "\n",
            "Matriz de confusão:\n"
          ]
        },
        {
          "output_type": "display_data",
          "data": {
            "image/png": "[encoded data removed]",
            "text/plain": [
              "<Figure size 432x288 with 2 Axes>"
            ]
          },
          "metadata": {}
        }
      ]
    },
    {
      "cell_type": "markdown",
      "source": [
        "####Conclusões"
      ],
      "metadata": {
        "id": "jgTgLPlEDoCa"
      }
    },
    {
      "cell_type": "markdown",
      "source": [
        "Conforme as métricas aqui apresentadas, a regressão logística apresentou os melhores resultados, especialmente com TF-IDF, com a acurácia de aproximadamente 79,1%. Com isso, utilizarei esse método para testar nas seguintes predições:"
      ],
      "metadata": {
        "id": "9Aq4y_OoDqOj"
      }
    },
    {
      "cell_type": "code",
      "source": [
        "from sklearn.feature_extraction.text import CountVectorizer, TfidfVectorizer"
      ],
      "metadata": {
        "id": "zC0T9jsDEWbr"
      },
      "execution_count": 64,
      "outputs": []
    },
    {
      "cell_type": "code",
      "source": [
        "def nova_predicao(texto):\n",
        "  texto_vetorizado = TFIDFvec.transform([texto])\n",
        "  pred = reglog2.predict(texto_vetorizado)\n",
        "\n",
        "  if pred == 0:\n",
        "    print(\"Review negativa.\")\n",
        "  else:\n",
        "    print(\"Review positiva.\")"
      ],
      "metadata": {
        "id": "Nne6q76RGU4R"
      },
      "execution_count": 65,
      "outputs": []
    },
    {
      "cell_type": "code",
      "source": [
        "nova_predicao(\"A lot of bugs but overall very enjoyable experience\")"
      ],
      "metadata": {
        "colab": {
          "base_uri": "https://localhost:8080/"
        },
        "id": "aVWdJ5OEHxxB",
        "outputId": "1f7c3757-56cc-45de-bf9b-7529ae207dbb"
      },
      "execution_count": 66,
      "outputs": [
        {
          "output_type": "stream",
          "name": "stdout",
          "text": [
            "Review positiva.\n"
          ]
        }
      ]
    },
    {
      "cell_type": "code",
      "source": [
        "nova_predicao(\"This is an absolute garbage and robbery. The game is too bugged on all levels and is much worse in almost every terms comparing with DL1. DON'T buy this game until they will do some patches\")"
      ],
      "metadata": {
        "colab": {
          "base_uri": "https://localhost:8080/"
        },
        "id": "_vDSxqguIE9h",
        "outputId": "25b103e9-31a4-494d-b58d-0033e5d74e76"
      },
      "execution_count": 67,
      "outputs": [
        {
          "output_type": "stream",
          "name": "stdout",
          "text": [
            "Review negativa.\n"
          ]
        }
      ]
    },
    {
      "cell_type": "markdown",
      "source": [
        "Parece que funciona bem ihuuuuu\n",
        "\n",
        "![spongebob-happy.gif](data:image/gif;base64,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)"
      ],
      "metadata": {
        "id": "IcNQRPA1ISP6"
      }
    },
    {
      "cell_type": "markdown",
      "source": [
        "##Embeddings (Word2Vec)"
      ],
      "metadata": {
        "id": "_J5PyOKPJAZh"
      }
    },
    {
      "cell_type": "markdown",
      "source": [
        "Word Vectors são vetores que representam o significado de\n",
        "uma palavra, ou seja, tem uma interpretação melhor da palavra em determinado contexto."
      ],
      "metadata": {
        "id": "q3LM0Jq3JPmI"
      }
    },
    {
      "cell_type": "code",
      "source": [
        "from nltk.tokenize import sent_tokenize\n",
        "import gensim\n",
        "from gensim.models import Word2Vec"
      ],
      "metadata": {
        "id": "XdEYW28j1BZP"
      },
      "execution_count": 99,
      "outputs": []
    },
    {
      "cell_type": "code",
      "source": [
        "modelo = gensim.models.Word2Vec(df_train['Review'].astype(str).apply(word_tokenize).tolist(),\n",
        "                                min_count = 1, size = 100, window = 2, sg = 1)"
      ],
      "metadata": {
        "id": "Lr7yCJIxWtt4"
      },
      "execution_count": 100,
      "outputs": []
    },
    {
      "cell_type": "markdown",
      "source": [
        "Window = numero de palavras utilizadas\n",
        "Vector_size = dimensão do vetor"
      ],
      "metadata": {
        "id": "JFXF-fnT7RZB"
      }
    },
    {
      "cell_type": "code",
      "source": [
        "# Função que mostra as palavras mais parecidas com as indicadas, em porcentagem.\n",
        "modelo.wv.most_similar(positive=\"good\")"
      ],
      "metadata": {
        "colab": {
          "base_uri": "https://localhost:8080/"
        },
        "id": "iR4pUqr-XVYg",
        "outputId": "aa878b60-eeb1-487b-af28-f7ec9de3b5bc"
      },
      "execution_count": 102,
      "outputs": [
        {
          "output_type": "execute_result",
          "data": {
            "text/plain": [
              "[('great', 0.829425573348999),\n",
              " ('decent', 0.827686071395874),\n",
              " ('awesome', 0.8196062445640564),\n",
              " ('impressed', 0.815894365310669),\n",
              " ('stellar', 0.8158465623855591),\n",
              " ('equal', 0.8127498030662537),\n",
              " ('impress', 0.8077277541160583),\n",
              " ('dislike', 0.807445764541626),\n",
              " ('acceptable', 0.8072394132614136),\n",
              " ('darn', 0.8071674704551697)]"
            ]
          },
          "metadata": {},
          "execution_count": 102
        }
      ]
    },
    {
      "cell_type": "markdown",
      "source": [
        "Parece que funciona bem, mostrando palavras que realmente combinam com \"good\". Vamos testar mais algumas."
      ],
      "metadata": {
        "id": "T5BJVkpy8KXJ"
      }
    },
    {
      "cell_type": "code",
      "source": [
        "modelo.wv.most_similar(positive = 'graphic')"
      ],
      "metadata": {
        "colab": {
          "base_uri": "https://localhost:8080/"
        },
        "id": "9sw5LaIw8SiA",
        "outputId": "53e21ca5-01a6-4ece-becd-8e8dc68fa3b9"
      },
      "execution_count": 101,
      "outputs": [
        {
          "output_type": "execute_result",
          "data": {
            "text/plain": [
              "[('visual', 0.8414498567581177),\n",
              " ('presentation', 0.8178281784057617),\n",
              " ('graphically', 0.8166012167930603),\n",
              " ('visually', 0.8120085597038269),\n",
              " ('looking', 0.809147298336029),\n",
              " ('physics', 0.8082376718521118),\n",
              " ('graphics', 0.7969724535942078),\n",
              " ('commentary', 0.7873746752738953),\n",
              " ('indeed', 0.7860793471336365),\n",
              " ('soundtrack', 0.7856975793838501)]"
            ]
          },
          "metadata": {},
          "execution_count": 101
        }
      ]
    },
    {
      "cell_type": "code",
      "source": [
        "# Função de similaridade entre palavras selecionadas\n",
        "modelo.wv.similarity(\"resident\", \"evil\")"
      ],
      "metadata": {
        "colab": {
          "base_uri": "https://localhost:8080/"
        },
        "id": "v-EtHJhdXnNr",
        "outputId": "1811a57c-e424-494d-a3b8-3efc77489ebb"
      },
      "execution_count": 104,
      "outputs": [
        {
          "output_type": "execute_result",
          "data": {
            "text/plain": [
              "0.76963943"
            ]
          },
          "metadata": {},
          "execution_count": 104
        }
      ]
    },
    {
      "cell_type": "code",
      "source": [
        "modelo.wv.similarity(\"mario\", \"bros\")"
      ],
      "metadata": {
        "colab": {
          "base_uri": "https://localhost:8080/"
        },
        "id": "-LvQQAjH-tQz",
        "outputId": "6131ae1a-af60-4410-9af4-7099655840e5"
      },
      "execution_count": 105,
      "outputs": [
        {
          "output_type": "execute_result",
          "data": {
            "text/plain": [
              "0.84403104"
            ]
          },
          "metadata": {},
          "execution_count": 105
        }
      ]
    },
    {
      "cell_type": "code",
      "source": [
        "# Analogias\n",
        "def analogia(x1,x2,y1):\n",
        "  y2 = modelo.most_similar(positive = [y1, x2], negative = [x1])\n",
        "  return y2[0][0]"
      ],
      "metadata": {
        "id": "PXVUFB8wF-3C"
      },
      "execution_count": 110,
      "outputs": []
    },
    {
      "cell_type": "code",
      "source": [
        "analogia('sonic', 'sega', 'mario')"
      ],
      "metadata": {
        "colab": {
          "base_uri": "https://localhost:8080/",
          "height": 93
        },
        "id": "DGLjOh8aGSd0",
        "outputId": "09449960-10cf-4cea-ceaf-c2fc3d907af0"
      },
      "execution_count": 111,
      "outputs": [
        {
          "output_type": "stream",
          "name": "stderr",
          "text": [
            "/usr/local/lib/python3.7/dist-packages/ipykernel_launcher.py:3: DeprecationWarning: Call to deprecated `most_similar` (Method will be removed in 4.0.0, use self.wv.most_similar() instead).\n",
            "  This is separate from the ipykernel package so we can avoid doing imports until\n"
          ]
        },
        {
          "output_type": "execute_result",
          "data": {
            "application/vnd.google.colaboratory.intrinsic+json": {
              "type": "string"
            },
            "text/plain": [
              "'nintendo'"
            ]
          },
          "metadata": {},
          "execution_count": 111
        }
      ]
    },
    {
      "cell_type": "code",
      "source": [
        "analogia('playstation', 'wii', 'xbox')"
      ],
      "metadata": {
        "colab": {
          "base_uri": "https://localhost:8080/",
          "height": 93
        },
        "id": "MOCj_5CUGq9Z",
        "outputId": "0b34b567-541c-458e-d5bb-93491c4f7b08"
      },
      "execution_count": 115,
      "outputs": [
        {
          "output_type": "stream",
          "name": "stderr",
          "text": [
            "/usr/local/lib/python3.7/dist-packages/ipykernel_launcher.py:3: DeprecationWarning: Call to deprecated `most_similar` (Method will be removed in 4.0.0, use self.wv.most_similar() instead).\n",
            "  This is separate from the ipykernel package so we can avoid doing imports until\n"
          ]
        },
        {
          "output_type": "execute_result",
          "data": {
            "application/vnd.google.colaboratory.intrinsic+json": {
              "type": "string"
            },
            "text/plain": [
              "'remote'"
            ]
          },
          "metadata": {},
          "execution_count": 115
        }
      ]
    },
    {
      "cell_type": "code",
      "source": [
        "analogia('hate', 'bad', 'terrible')"
      ],
      "metadata": {
        "colab": {
          "base_uri": "https://localhost:8080/",
          "height": 93
        },
        "id": "O4LRTF-6HJP4",
        "outputId": "4bef7714-62f5-462a-e933-a7428a408895"
      },
      "execution_count": 119,
      "outputs": [
        {
          "output_type": "stream",
          "name": "stderr",
          "text": [
            "/usr/local/lib/python3.7/dist-packages/ipykernel_launcher.py:3: DeprecationWarning: Call to deprecated `most_similar` (Method will be removed in 4.0.0, use self.wv.most_similar() instead).\n",
            "  This is separate from the ipykernel package so we can avoid doing imports until\n"
          ]
        },
        {
          "output_type": "execute_result",
          "data": {
            "application/vnd.google.colaboratory.intrinsic+json": {
              "type": "string"
            },
            "text/plain": [
              "'horrible'"
            ]
          },
          "metadata": {},
          "execution_count": 119
        }
      ]
    },
    {
      "cell_type": "markdown",
      "source": [
        "##Conclusões"
      ],
      "metadata": {
        "id": "6MF3AIXjIa3x"
      }
    },
    {
      "cell_type": "markdown",
      "source": [
        "Chegamos ao fim! Para mim, foi muito divertido (e desafiador!) todas as etapas do projeto, mas sinto que absorvi bem os conceitos aqui aplicados e que estou pronta para aprender mais e ajudar na área. Espero que tenha ficado claro meu raciocínio ao desenvolver o projetinho :)"
      ],
      "metadata": {
        "id": "bqp-zTedIfn-"
      }
    }
  ]
}